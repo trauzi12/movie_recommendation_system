{
 "cells": [
  {
   "cell_type": "markdown",
   "metadata": {},
   "source": [
    "# 3. Exploratory Data Analysis"
   ]
  },
  {
   "cell_type": "markdown",
   "metadata": {},
   "source": [
    "## 3.1 Importing Modules"
   ]
  },
  {
   "cell_type": "code",
   "execution_count": 110,
   "metadata": {},
   "outputs": [],
   "source": [
    "import pandas as pd\n",
    "import numpy as np\n",
    "import re\n",
    "import matplotlib.pyplot as plt\n",
    "import seaborn as sns\n",
    "from collections import defaultdict\n",
    "from collections import Set\n",
    "from datetime import datetime\n",
    "\n",
    "from library.sb_utils import save_file"
   ]
  },
  {
   "cell_type": "markdown",
   "metadata": {},
   "source": [
    "## 3.2 Importing Data"
   ]
  },
  {
   "cell_type": "code",
   "execution_count": 2,
   "metadata": {},
   "outputs": [
    {
     "name": "stderr",
     "output_type": "stream",
     "text": [
      "C:\\Users\\User\\anaconda3\\lib\\site-packages\\IPython\\core\\interactiveshell.py:3071: DtypeWarning: Columns (0,3,19) have mixed types.Specify dtype option on import or set low_memory=False.\n",
      "  has_raised = await self.run_ast_nodes(code_ast.body, cell_name,\n"
     ]
    }
   ],
   "source": [
    "movies_metadata=pd.read_csv('../data/movies_metadata_cleaned.csv')\n",
    "ratings=pd.read_csv('../data/ratings.cleaned.csv')\n",
    "keywords=pd.read_csv('../data/keywords_cleaned.csv')\n",
    "links=pd.read_csv('../data/links_cleaned.csv')"
   ]
  },
  {
   "cell_type": "markdown",
   "metadata": {},
   "source": [
    "## 3.3 Movies Metadata"
   ]
  },
  {
   "cell_type": "markdown",
   "metadata": {},
   "source": [
    "### 3.3.1 Genres EDA"
   ]
  },
  {
   "cell_type": "code",
   "execution_count": 3,
   "metadata": {},
   "outputs": [
    {
     "data": {
      "text/html": [
       "<div>\n",
       "<style scoped>\n",
       "    .dataframe tbody tr th:only-of-type {\n",
       "        vertical-align: middle;\n",
       "    }\n",
       "\n",
       "    .dataframe tbody tr th {\n",
       "        vertical-align: top;\n",
       "    }\n",
       "\n",
       "    .dataframe thead th {\n",
       "        text-align: right;\n",
       "    }\n",
       "</style>\n",
       "<table border=\"1\" class=\"dataframe\">\n",
       "  <thead>\n",
       "    <tr style=\"text-align: right;\">\n",
       "      <th></th>\n",
       "      <th>adult</th>\n",
       "      <th>budget</th>\n",
       "      <th>genres</th>\n",
       "      <th>id</th>\n",
       "      <th>imdb_id</th>\n",
       "      <th>original_language</th>\n",
       "      <th>original_title</th>\n",
       "      <th>overview</th>\n",
       "      <th>poster_path</th>\n",
       "      <th>production_companies</th>\n",
       "      <th>production_countries</th>\n",
       "      <th>release_date</th>\n",
       "      <th>revenue</th>\n",
       "      <th>runtime</th>\n",
       "      <th>spoken_languages</th>\n",
       "      <th>status</th>\n",
       "      <th>title</th>\n",
       "      <th>vote_average</th>\n",
       "      <th>vote_count</th>\n",
       "      <th>new_budget</th>\n",
       "    </tr>\n",
       "  </thead>\n",
       "  <tbody>\n",
       "    <tr>\n",
       "      <th>0</th>\n",
       "      <td>False</td>\n",
       "      <td>30000000</td>\n",
       "      <td>[{'id': 16, 'name': 'Animation'}, {'id': 35, '...</td>\n",
       "      <td>862</td>\n",
       "      <td>tt0114709</td>\n",
       "      <td>en</td>\n",
       "      <td>Toy Story</td>\n",
       "      <td>Led by Woody, Andy's toys live happily in his ...</td>\n",
       "      <td>/rhIRbceoE9lR4veEXuwCC2wARtG.jpg</td>\n",
       "      <td>[{'name': 'Pixar Animation Studios', 'id': 3}]</td>\n",
       "      <td>[{'iso_3166_1': 'US', 'name': 'United States o...</td>\n",
       "      <td>1995-10-30</td>\n",
       "      <td>373554033.0</td>\n",
       "      <td>81.0</td>\n",
       "      <td>[{'iso_639_1': 'en', 'name': 'English'}]</td>\n",
       "      <td>Released</td>\n",
       "      <td>Toy Story</td>\n",
       "      <td>7.7</td>\n",
       "      <td>5415.0</td>\n",
       "      <td>30000000</td>\n",
       "    </tr>\n",
       "    <tr>\n",
       "      <th>1</th>\n",
       "      <td>False</td>\n",
       "      <td>65000000</td>\n",
       "      <td>[{'id': 12, 'name': 'Adventure'}, {'id': 14, '...</td>\n",
       "      <td>8844</td>\n",
       "      <td>tt0113497</td>\n",
       "      <td>en</td>\n",
       "      <td>Jumanji</td>\n",
       "      <td>When siblings Judy and Peter discover an encha...</td>\n",
       "      <td>/vzmL6fP7aPKNKPRTFnZmiUfciyV.jpg</td>\n",
       "      <td>[{'name': 'TriStar Pictures', 'id': 559}, {'na...</td>\n",
       "      <td>[{'iso_3166_1': 'US', 'name': 'United States o...</td>\n",
       "      <td>1995-12-15</td>\n",
       "      <td>262797249.0</td>\n",
       "      <td>104.0</td>\n",
       "      <td>[{'iso_639_1': 'en', 'name': 'English'}, {'iso...</td>\n",
       "      <td>Released</td>\n",
       "      <td>Jumanji</td>\n",
       "      <td>6.9</td>\n",
       "      <td>2413.0</td>\n",
       "      <td>65000000</td>\n",
       "    </tr>\n",
       "    <tr>\n",
       "      <th>2</th>\n",
       "      <td>False</td>\n",
       "      <td>0</td>\n",
       "      <td>[{'id': 10749, 'name': 'Romance'}, {'id': 35, ...</td>\n",
       "      <td>15602</td>\n",
       "      <td>tt0113228</td>\n",
       "      <td>en</td>\n",
       "      <td>Grumpier Old Men</td>\n",
       "      <td>A family wedding reignites the ancient feud be...</td>\n",
       "      <td>/6ksm1sjKMFLbO7UY2i6G1ju9SML.jpg</td>\n",
       "      <td>[{'name': 'Warner Bros.', 'id': 6194}, {'name'...</td>\n",
       "      <td>[{'iso_3166_1': 'US', 'name': 'United States o...</td>\n",
       "      <td>1995-12-22</td>\n",
       "      <td>0.0</td>\n",
       "      <td>101.0</td>\n",
       "      <td>[{'iso_639_1': 'en', 'name': 'English'}]</td>\n",
       "      <td>Released</td>\n",
       "      <td>Grumpier Old Men</td>\n",
       "      <td>6.5</td>\n",
       "      <td>92.0</td>\n",
       "      <td>0</td>\n",
       "    </tr>\n",
       "    <tr>\n",
       "      <th>3</th>\n",
       "      <td>False</td>\n",
       "      <td>16000000</td>\n",
       "      <td>[{'id': 35, 'name': 'Comedy'}, {'id': 18, 'nam...</td>\n",
       "      <td>31357</td>\n",
       "      <td>tt0114885</td>\n",
       "      <td>en</td>\n",
       "      <td>Waiting to Exhale</td>\n",
       "      <td>Cheated on, mistreated and stepped on, the wom...</td>\n",
       "      <td>/16XOMpEaLWkrcPqSQqhTmeJuqQl.jpg</td>\n",
       "      <td>[{'name': 'Twentieth Century Fox Film Corporat...</td>\n",
       "      <td>[{'iso_3166_1': 'US', 'name': 'United States o...</td>\n",
       "      <td>1995-12-22</td>\n",
       "      <td>81452156.0</td>\n",
       "      <td>127.0</td>\n",
       "      <td>[{'iso_639_1': 'en', 'name': 'English'}]</td>\n",
       "      <td>Released</td>\n",
       "      <td>Waiting to Exhale</td>\n",
       "      <td>6.1</td>\n",
       "      <td>34.0</td>\n",
       "      <td>16000000</td>\n",
       "    </tr>\n",
       "    <tr>\n",
       "      <th>4</th>\n",
       "      <td>False</td>\n",
       "      <td>0</td>\n",
       "      <td>[{'id': 35, 'name': 'Comedy'}]</td>\n",
       "      <td>11862</td>\n",
       "      <td>tt0113041</td>\n",
       "      <td>en</td>\n",
       "      <td>Father of the Bride Part II</td>\n",
       "      <td>Just when George Banks has recovered from his ...</td>\n",
       "      <td>/e64sOI48hQXyru7naBFyssKFxVd.jpg</td>\n",
       "      <td>[{'name': 'Sandollar Productions', 'id': 5842}...</td>\n",
       "      <td>[{'iso_3166_1': 'US', 'name': 'United States o...</td>\n",
       "      <td>1995-02-10</td>\n",
       "      <td>76578911.0</td>\n",
       "      <td>106.0</td>\n",
       "      <td>[{'iso_639_1': 'en', 'name': 'English'}]</td>\n",
       "      <td>Released</td>\n",
       "      <td>Father of the Bride Part II</td>\n",
       "      <td>5.7</td>\n",
       "      <td>173.0</td>\n",
       "      <td>0</td>\n",
       "    </tr>\n",
       "  </tbody>\n",
       "</table>\n",
       "</div>"
      ],
      "text/plain": [
       "   adult    budget                                             genres     id  \\\n",
       "0  False  30000000  [{'id': 16, 'name': 'Animation'}, {'id': 35, '...    862   \n",
       "1  False  65000000  [{'id': 12, 'name': 'Adventure'}, {'id': 14, '...   8844   \n",
       "2  False         0  [{'id': 10749, 'name': 'Romance'}, {'id': 35, ...  15602   \n",
       "3  False  16000000  [{'id': 35, 'name': 'Comedy'}, {'id': 18, 'nam...  31357   \n",
       "4  False         0                     [{'id': 35, 'name': 'Comedy'}]  11862   \n",
       "\n",
       "     imdb_id original_language               original_title  \\\n",
       "0  tt0114709                en                    Toy Story   \n",
       "1  tt0113497                en                      Jumanji   \n",
       "2  tt0113228                en             Grumpier Old Men   \n",
       "3  tt0114885                en            Waiting to Exhale   \n",
       "4  tt0113041                en  Father of the Bride Part II   \n",
       "\n",
       "                                            overview  \\\n",
       "0  Led by Woody, Andy's toys live happily in his ...   \n",
       "1  When siblings Judy and Peter discover an encha...   \n",
       "2  A family wedding reignites the ancient feud be...   \n",
       "3  Cheated on, mistreated and stepped on, the wom...   \n",
       "4  Just when George Banks has recovered from his ...   \n",
       "\n",
       "                        poster_path  \\\n",
       "0  /rhIRbceoE9lR4veEXuwCC2wARtG.jpg   \n",
       "1  /vzmL6fP7aPKNKPRTFnZmiUfciyV.jpg   \n",
       "2  /6ksm1sjKMFLbO7UY2i6G1ju9SML.jpg   \n",
       "3  /16XOMpEaLWkrcPqSQqhTmeJuqQl.jpg   \n",
       "4  /e64sOI48hQXyru7naBFyssKFxVd.jpg   \n",
       "\n",
       "                                production_companies  \\\n",
       "0     [{'name': 'Pixar Animation Studios', 'id': 3}]   \n",
       "1  [{'name': 'TriStar Pictures', 'id': 559}, {'na...   \n",
       "2  [{'name': 'Warner Bros.', 'id': 6194}, {'name'...   \n",
       "3  [{'name': 'Twentieth Century Fox Film Corporat...   \n",
       "4  [{'name': 'Sandollar Productions', 'id': 5842}...   \n",
       "\n",
       "                                production_countries release_date  \\\n",
       "0  [{'iso_3166_1': 'US', 'name': 'United States o...   1995-10-30   \n",
       "1  [{'iso_3166_1': 'US', 'name': 'United States o...   1995-12-15   \n",
       "2  [{'iso_3166_1': 'US', 'name': 'United States o...   1995-12-22   \n",
       "3  [{'iso_3166_1': 'US', 'name': 'United States o...   1995-12-22   \n",
       "4  [{'iso_3166_1': 'US', 'name': 'United States o...   1995-02-10   \n",
       "\n",
       "       revenue  runtime                                   spoken_languages  \\\n",
       "0  373554033.0     81.0           [{'iso_639_1': 'en', 'name': 'English'}]   \n",
       "1  262797249.0    104.0  [{'iso_639_1': 'en', 'name': 'English'}, {'iso...   \n",
       "2          0.0    101.0           [{'iso_639_1': 'en', 'name': 'English'}]   \n",
       "3   81452156.0    127.0           [{'iso_639_1': 'en', 'name': 'English'}]   \n",
       "4   76578911.0    106.0           [{'iso_639_1': 'en', 'name': 'English'}]   \n",
       "\n",
       "     status                        title  vote_average  vote_count new_budget  \n",
       "0  Released                    Toy Story           7.7      5415.0   30000000  \n",
       "1  Released                      Jumanji           6.9      2413.0   65000000  \n",
       "2  Released             Grumpier Old Men           6.5        92.0          0  \n",
       "3  Released            Waiting to Exhale           6.1        34.0   16000000  \n",
       "4  Released  Father of the Bride Part II           5.7       173.0          0  "
      ]
     },
     "execution_count": 3,
     "metadata": {},
     "output_type": "execute_result"
    }
   ],
   "source": [
    "movies_metadata.head()"
   ]
  },
  {
   "cell_type": "markdown",
   "metadata": {},
   "source": [
    "#### 3.3.1.2 Genres Formatting"
   ]
  },
  {
   "cell_type": "code",
   "execution_count": 4,
   "metadata": {},
   "outputs": [],
   "source": [
    "# function extracts genre\n",
    "def extract_genre(row):\n",
    "    \"\"\"This function takes the string text in genres columns and collects the genres into a list\"\"\"\n",
    "    genre=re.findall(r\"'name':\\s'(\\w+)'\",row)\n",
    "    return genre\n",
    "\n",
    "#creates a new column genres_list\n",
    "movies_metadata['genres_list']=movies_metadata['genres'].apply(lambda row: extract_genre(row))"
   ]
  },
  {
   "cell_type": "code",
   "execution_count": 5,
   "metadata": {},
   "outputs": [
    {
     "data": {
      "text/plain": [
       "['Animation',\n",
       " 'Comedy',\n",
       " 'Family',\n",
       " 'Adventure',\n",
       " 'Fantasy',\n",
       " 'Romance',\n",
       " 'Drama',\n",
       " 'Action',\n",
       " 'Crime',\n",
       " 'Thriller',\n",
       " 'Horror',\n",
       " 'History',\n",
       " 'Mystery',\n",
       " 'War',\n",
       " 'Foreign',\n",
       " 'Music',\n",
       " 'Documentary',\n",
       " 'Western']"
      ]
     },
     "execution_count": 5,
     "metadata": {},
     "output_type": "execute_result"
    }
   ],
   "source": [
    "# determing the possible genres\n",
    "gen_coll=[]\n",
    "for movie in movies_metadata['genres_list']:\n",
    "    for val in movie:\n",
    "        if val not in gen_coll:\n",
    "            gen_coll.append(val)\n",
    "gen_coll"
   ]
  },
  {
   "cell_type": "code",
   "execution_count": 6,
   "metadata": {},
   "outputs": [
    {
     "data": {
      "text/plain": [
       "[Drama]                                              5210\n",
       "[Comedy]                                             3725\n",
       "[Documentary]                                        2754\n",
       "[]                                                   2652\n",
       "[Drama, Romance]                                     1342\n",
       "                                                     ... \n",
       "[Drama, Comedy, Romance, Family, Foreign]               1\n",
       "[War, Animation]                                        1\n",
       "[Comedy, Action, Adventure, Romance]                    1\n",
       "[Action, Thriller, Mystery, Horror]                     1\n",
       "[Drama, Horror, Action, Thriller, Crime, Foreign]       1\n",
       "Name: genres_list, Length: 3154, dtype: int64"
      ]
     },
     "execution_count": 6,
     "metadata": {},
     "output_type": "execute_result"
    }
   ],
   "source": [
    "movies_metadata['genres_list'].value_counts()"
   ]
  },
  {
   "cell_type": "code",
   "execution_count": 7,
   "metadata": {},
   "outputs": [
    {
     "data": {
      "text/plain": [
       "0.058390946320841956"
      ]
     },
     "execution_count": 7,
     "metadata": {},
     "output_type": "execute_result"
    }
   ],
   "source": [
    "# percentage of movies without genre data\n",
    "2652/len(movies_metadata['genres_list'])"
   ]
  },
  {
   "cell_type": "code",
   "execution_count": 8,
   "metadata": {},
   "outputs": [
    {
     "data": {
      "text/html": [
       "<div>\n",
       "<style scoped>\n",
       "    .dataframe tbody tr th:only-of-type {\n",
       "        vertical-align: middle;\n",
       "    }\n",
       "\n",
       "    .dataframe tbody tr th {\n",
       "        vertical-align: top;\n",
       "    }\n",
       "\n",
       "    .dataframe thead th {\n",
       "        text-align: right;\n",
       "    }\n",
       "</style>\n",
       "<table border=\"1\" class=\"dataframe\">\n",
       "  <thead>\n",
       "    <tr style=\"text-align: right;\">\n",
       "      <th></th>\n",
       "      <th>genres</th>\n",
       "      <th>genres_list</th>\n",
       "    </tr>\n",
       "  </thead>\n",
       "  <tbody>\n",
       "    <tr>\n",
       "      <th>55</th>\n",
       "      <td>[]</td>\n",
       "      <td>[]</td>\n",
       "    </tr>\n",
       "    <tr>\n",
       "      <th>83</th>\n",
       "      <td>[]</td>\n",
       "      <td>[]</td>\n",
       "    </tr>\n",
       "    <tr>\n",
       "      <th>126</th>\n",
       "      <td>[]</td>\n",
       "      <td>[]</td>\n",
       "    </tr>\n",
       "    <tr>\n",
       "      <th>137</th>\n",
       "      <td>[]</td>\n",
       "      <td>[]</td>\n",
       "    </tr>\n",
       "    <tr>\n",
       "      <th>390</th>\n",
       "      <td>[]</td>\n",
       "      <td>[]</td>\n",
       "    </tr>\n",
       "    <tr>\n",
       "      <th>...</th>\n",
       "      <td>...</td>\n",
       "      <td>...</td>\n",
       "    </tr>\n",
       "    <tr>\n",
       "      <th>45399</th>\n",
       "      <td>[]</td>\n",
       "      <td>[]</td>\n",
       "    </tr>\n",
       "    <tr>\n",
       "      <th>45400</th>\n",
       "      <td>[]</td>\n",
       "      <td>[]</td>\n",
       "    </tr>\n",
       "    <tr>\n",
       "      <th>45407</th>\n",
       "      <td>[]</td>\n",
       "      <td>[]</td>\n",
       "    </tr>\n",
       "    <tr>\n",
       "      <th>45416</th>\n",
       "      <td>[]</td>\n",
       "      <td>[]</td>\n",
       "    </tr>\n",
       "    <tr>\n",
       "      <th>45417</th>\n",
       "      <td>[]</td>\n",
       "      <td>[]</td>\n",
       "    </tr>\n",
       "  </tbody>\n",
       "</table>\n",
       "<p>2437 rows × 2 columns</p>\n",
       "</div>"
      ],
      "text/plain": [
       "      genres genres_list\n",
       "55        []          []\n",
       "83        []          []\n",
       "126       []          []\n",
       "137       []          []\n",
       "390       []          []\n",
       "...      ...         ...\n",
       "45399     []          []\n",
       "45400     []          []\n",
       "45407     []          []\n",
       "45416     []          []\n",
       "45417     []          []\n",
       "\n",
       "[2437 rows x 2 columns]"
      ]
     },
     "execution_count": 8,
     "metadata": {},
     "output_type": "execute_result"
    }
   ],
   "source": [
    "# determining if the empty list is due to missing genre data\n",
    "movies_metadata.loc[movies_metadata['genres']=='[]', ['genres', 'genres_list']]"
   ]
  },
  {
   "cell_type": "markdown",
   "metadata": {},
   "source": [
    "Now, I need to determine the distribution of genres. There are 1783 movies that that a unique genre."
   ]
  },
  {
   "cell_type": "markdown",
   "metadata": {},
   "source": [
    "#### 3.3.1.2 Summary Statistics"
   ]
  },
  {
   "cell_type": "code",
   "execution_count": 9,
   "metadata": {},
   "outputs": [
    {
     "data": {
      "text/html": [
       "<div>\n",
       "<style scoped>\n",
       "    .dataframe tbody tr th:only-of-type {\n",
       "        vertical-align: middle;\n",
       "    }\n",
       "\n",
       "    .dataframe tbody tr th {\n",
       "        vertical-align: top;\n",
       "    }\n",
       "\n",
       "    .dataframe thead th {\n",
       "        text-align: right;\n",
       "    }\n",
       "</style>\n",
       "<table border=\"1\" class=\"dataframe\">\n",
       "  <thead>\n",
       "    <tr style=\"text-align: right;\">\n",
       "      <th></th>\n",
       "      <th>count</th>\n",
       "      <th>prop_count</th>\n",
       "    </tr>\n",
       "  </thead>\n",
       "  <tbody>\n",
       "    <tr>\n",
       "      <th>[Drama]</th>\n",
       "      <td>5210</td>\n",
       "      <td>0.114712</td>\n",
       "    </tr>\n",
       "    <tr>\n",
       "      <th>[Comedy]</th>\n",
       "      <td>3725</td>\n",
       "      <td>0.082016</td>\n",
       "    </tr>\n",
       "    <tr>\n",
       "      <th>[Documentary]</th>\n",
       "      <td>2754</td>\n",
       "      <td>0.060637</td>\n",
       "    </tr>\n",
       "    <tr>\n",
       "      <th>[]</th>\n",
       "      <td>2652</td>\n",
       "      <td>0.058391</td>\n",
       "    </tr>\n",
       "    <tr>\n",
       "      <th>[Drama, Romance]</th>\n",
       "      <td>1342</td>\n",
       "      <td>0.029548</td>\n",
       "    </tr>\n",
       "    <tr>\n",
       "      <th>...</th>\n",
       "      <td>...</td>\n",
       "      <td>...</td>\n",
       "    </tr>\n",
       "    <tr>\n",
       "      <th>[Drama, Comedy, Romance, Family, Foreign]</th>\n",
       "      <td>1</td>\n",
       "      <td>0.000022</td>\n",
       "    </tr>\n",
       "    <tr>\n",
       "      <th>[War, Animation]</th>\n",
       "      <td>1</td>\n",
       "      <td>0.000022</td>\n",
       "    </tr>\n",
       "    <tr>\n",
       "      <th>[Comedy, Action, Adventure, Romance]</th>\n",
       "      <td>1</td>\n",
       "      <td>0.000022</td>\n",
       "    </tr>\n",
       "    <tr>\n",
       "      <th>[Action, Thriller, Mystery, Horror]</th>\n",
       "      <td>1</td>\n",
       "      <td>0.000022</td>\n",
       "    </tr>\n",
       "    <tr>\n",
       "      <th>[Drama, Horror, Action, Thriller, Crime, Foreign]</th>\n",
       "      <td>1</td>\n",
       "      <td>0.000022</td>\n",
       "    </tr>\n",
       "  </tbody>\n",
       "</table>\n",
       "<p>3154 rows × 2 columns</p>\n",
       "</div>"
      ],
      "text/plain": [
       "                                                   count  prop_count\n",
       "[Drama]                                             5210    0.114712\n",
       "[Comedy]                                            3725    0.082016\n",
       "[Documentary]                                       2754    0.060637\n",
       "[]                                                  2652    0.058391\n",
       "[Drama, Romance]                                    1342    0.029548\n",
       "...                                                  ...         ...\n",
       "[Drama, Comedy, Romance, Family, Foreign]              1    0.000022\n",
       "[War, Animation]                                       1    0.000022\n",
       "[Comedy, Action, Adventure, Romance]                   1    0.000022\n",
       "[Action, Thriller, Mystery, Horror]                    1    0.000022\n",
       "[Drama, Horror, Action, Thriller, Crime, Foreign]      1    0.000022\n",
       "\n",
       "[3154 rows x 2 columns]"
      ]
     },
     "execution_count": 9,
     "metadata": {},
     "output_type": "execute_result"
    }
   ],
   "source": [
    "genre_grp=pd.DataFrame(movies_metadata['genres_list'].value_counts())\n",
    "genre_grp.rename({'genres_list':'count'}, axis=1, inplace=True)\n",
    "genre_grp['prop_count']=genre_grp['count'].apply(lambda row: row/np.sum(genre_grp['count']))\n",
    "genre_grp"
   ]
  },
  {
   "cell_type": "code",
   "execution_count": 10,
   "metadata": {},
   "outputs": [
    {
     "data": {
      "text/plain": [
       "count    3154.000000\n",
       "mean       14.400127\n",
       "std       143.290550\n",
       "min         1.000000\n",
       "25%         1.000000\n",
       "50%         1.000000\n",
       "75%         3.000000\n",
       "max      5210.000000\n",
       "Name: count, dtype: float64"
      ]
     },
     "execution_count": 10,
     "metadata": {},
     "output_type": "execute_result"
    }
   ],
   "source": [
    "# summary statistics for the genre counts\n",
    "genre_grp['count'].describe()"
   ]
  },
  {
   "cell_type": "code",
   "execution_count": 11,
   "metadata": {},
   "outputs": [
    {
     "data": {
      "text/plain": [
       "(2374, 2)"
      ]
     },
     "execution_count": 11,
     "metadata": {},
     "output_type": "execute_result"
    }
   ],
   "source": [
    "# determinig the number of genres with 1, 2, or 3 movies in each\n",
    "genre_grp[genre_grp['count'].isin([1,2,3])].shape"
   ]
  },
  {
   "cell_type": "code",
   "execution_count": 12,
   "metadata": {},
   "outputs": [
    {
     "data": {
      "text/plain": [
       "((1783, 2), (404, 2), (187, 2))"
      ]
     },
     "execution_count": 12,
     "metadata": {},
     "output_type": "execute_result"
    }
   ],
   "source": [
    "# number of genres with 1, 2, or 3 movies, respectively\n",
    "genre_grp[genre_grp['count'].isin([1])].shape, genre_grp[genre_grp['count'].isin([2])].shape, genre_grp[genre_grp['count'].isin([3])].shape"
   ]
  },
  {
   "cell_type": "markdown",
   "metadata": {},
   "source": [
    "#### 3.3.1.3 Creating Dummy Variables"
   ]
  },
  {
   "cell_type": "code",
   "execution_count": 13,
   "metadata": {},
   "outputs": [],
   "source": [
    "# function creates a column of zeros for each genre \n",
    "def dummy_var_col(genres, df):\n",
    "    \"\"\"This function creates a column for each of the genres\n",
    "    dummy_var_col(genres, df)\n",
    "    -genres: the list for new columns\n",
    "    -df is the dataframe where you want to create the columns\"\"\"\n",
    "    \n",
    "    for genre in genres:\n",
    "        df[genre]=0\n"
   ]
  },
  {
   "cell_type": "code",
   "execution_count": 14,
   "metadata": {},
   "outputs": [
    {
     "data": {
      "text/plain": [
       "Index(['adult', 'budget', 'genres', 'id', 'imdb_id', 'original_language',\n",
       "       'original_title', 'overview', 'poster_path', 'production_companies',\n",
       "       'production_countries', 'release_date', 'revenue', 'runtime',\n",
       "       'spoken_languages', 'status', 'title', 'vote_average', 'vote_count',\n",
       "       'new_budget', 'genres_list', 'Animation', 'Comedy', 'Family',\n",
       "       'Adventure', 'Fantasy', 'Romance', 'Drama', 'Action', 'Crime',\n",
       "       'Thriller', 'Horror', 'History', 'Mystery', 'War', 'Foreign', 'Music',\n",
       "       'Documentary', 'Western'],\n",
       "      dtype='object')"
      ]
     },
     "execution_count": 14,
     "metadata": {},
     "output_type": "execute_result"
    }
   ],
   "source": [
    "# creates the columns\n",
    "dummy_var_col(gen_coll, movies_metadata)\n",
    "\n",
    "# checks to see if the columns were created\n",
    "movies_metadata.columns"
   ]
  },
  {
   "cell_type": "code",
   "execution_count": 15,
   "metadata": {},
   "outputs": [],
   "source": [
    "# function that fills in the values for the dummy variables\n",
    "def dummy_var_value(col_name, df):\n",
    "    for index, value in df.iterrows():\n",
    "        for genre in value[col_name]:\n",
    "            df.loc[index, genre]=1\n",
    "    return df"
   ]
  },
  {
   "cell_type": "code",
   "execution_count": 16,
   "metadata": {},
   "outputs": [
    {
     "data": {
      "text/plain": [
       "adult                                                               False\n",
       "budget                                                           30000000\n",
       "genres                  [{'id': 16, 'name': 'Animation'}, {'id': 35, '...\n",
       "id                                                                    862\n",
       "imdb_id                                                         tt0114709\n",
       "original_language                                                      en\n",
       "original_title                                                  Toy Story\n",
       "overview                Led by Woody, Andy's toys live happily in his ...\n",
       "poster_path                              /rhIRbceoE9lR4veEXuwCC2wARtG.jpg\n",
       "production_companies       [{'name': 'Pixar Animation Studios', 'id': 3}]\n",
       "production_countries    [{'iso_3166_1': 'US', 'name': 'United States o...\n",
       "release_date                                                   1995-10-30\n",
       "revenue                                                       3.73554e+08\n",
       "runtime                                                                81\n",
       "spoken_languages                 [{'iso_639_1': 'en', 'name': 'English'}]\n",
       "status                                                           Released\n",
       "title                                                           Toy Story\n",
       "vote_average                                                          7.7\n",
       "vote_count                                                           5415\n",
       "new_budget                                                       30000000\n",
       "genres_list                                   [Animation, Comedy, Family]\n",
       "Animation                                                               1\n",
       "Comedy                                                                  1\n",
       "Family                                                                  1\n",
       "Adventure                                                               0\n",
       "Fantasy                                                                 0\n",
       "Romance                                                                 0\n",
       "Drama                                                                   0\n",
       "Action                                                                  0\n",
       "Crime                                                                   0\n",
       "Thriller                                                                0\n",
       "Horror                                                                  0\n",
       "History                                                                 0\n",
       "Mystery                                                                 0\n",
       "War                                                                     0\n",
       "Foreign                                                                 0\n",
       "Music                                                                   0\n",
       "Documentary                                                             0\n",
       "Western                                                                 0\n",
       "Name: 0, dtype: object"
      ]
     },
     "execution_count": 16,
     "metadata": {},
     "output_type": "execute_result"
    }
   ],
   "source": [
    "#filling in values for dummy variable\n",
    "movies_metadata=dummy_var_value('genres_list', movies_metadata)\n",
    "\n",
    "# testing\n",
    "movies_metadata.loc[0]"
   ]
  },
  {
   "cell_type": "markdown",
   "metadata": {},
   "source": [
    "#### 3.3.1.4 dropping genres columns"
   ]
  },
  {
   "cell_type": "code",
   "execution_count": 17,
   "metadata": {},
   "outputs": [
    {
     "data": {
      "text/plain": [
       "Index(['adult', 'budget', 'id', 'imdb_id', 'original_language',\n",
       "       'original_title', 'overview', 'poster_path', 'production_companies',\n",
       "       'production_countries', 'release_date', 'revenue', 'runtime',\n",
       "       'spoken_languages', 'status', 'title', 'vote_average', 'vote_count',\n",
       "       'new_budget', 'genres_list', 'Animation', 'Comedy', 'Family',\n",
       "       'Adventure', 'Fantasy', 'Romance', 'Drama', 'Action', 'Crime',\n",
       "       'Thriller', 'Horror', 'History', 'Mystery', 'War', 'Foreign', 'Music',\n",
       "       'Documentary', 'Western'],\n",
       "      dtype='object')"
      ]
     },
     "execution_count": 17,
     "metadata": {},
     "output_type": "execute_result"
    }
   ],
   "source": [
    "# dropped genres and genres_list columns\n",
    "movies_metadata.drop(columns=['genres'], inplace=True)\n",
    "\n",
    "#checking columns were removed\n",
    "movies_metadata.columns"
   ]
  },
  {
   "cell_type": "markdown",
   "metadata": {},
   "source": [
    "#### 3.3.1.5 Genre Summary"
   ]
  },
  {
   "cell_type": "markdown",
   "metadata": {},
   "source": [
    "There are 3154 different movie genres. The interquartile range is between 1 and 3 movies; thus, the middle 50% of genres only contain 1 through 3 movies, which suggests the genres are too specific. From those different movies genres, there are 1783, 404, and 187 movies that have a genre that contains only one, two, or three movies, respectively. There are 2652 movies that lack genre data, which accounts for about 5.8% of the movies. The movies with unique value for genre will not yield reliable predictive results since there is a very limited number of them. For example, there is only one movie that is a drama, comedy, romance, family, and foreign, so that movie cannot be directly related to other films. I split each possible genre into a dummy variable. I will likely use unsupervised learning to determine, which genres are the most important."
   ]
  },
  {
   "cell_type": "markdown",
   "metadata": {},
   "source": [
    "### 3.3.2 Production Company"
   ]
  },
  {
   "cell_type": "markdown",
   "metadata": {},
   "source": [
    "#### 3.3.2.1 Formatting"
   ]
  },
  {
   "cell_type": "code",
   "execution_count": 18,
   "metadata": {},
   "outputs": [
    {
     "data": {
      "text/plain": [
       "[]                                                                                                                                                                                                                                                                          11858\n",
       "[{'name': 'Metro-Goldwyn-Mayer (MGM)', 'id': 8411}]                                                                                                                                                                                                                           742\n",
       "[{'name': 'Warner Bros.', 'id': 6194}]                                                                                                                                                                                                                                        540\n",
       "[{'name': 'Paramount Pictures', 'id': 4}]                                                                                                                                                                                                                                     504\n",
       "[{'name': 'Twentieth Century Fox Film Corporation', 'id': 306}]                                                                                                                                                                                                               439\n",
       "                                                                                                                                                                                                                                                                            ...  \n",
       "[{'name': 'New South Wales Film & Television Office', 'id': 418}]                                                                                                                                                                                                               1\n",
       "[{'name': 'Warner Bros. Animation', 'id': 2785}, {'name': 'Hanna-Barbera', 'id': 7898}, {'name': 'WWE Studios', 'id': 10339}]                                                                                                                                                   1\n",
       "[{'name': 'British Broadcasting Corporation (BBC)', 'id': 3324}, {'name': 'Granada Television', 'id': 14063}]                                                                                                                                                                   1\n",
       "[{'name': 'Arts Council of England', 'id': 718}, {'name': 'The Film Consortium', 'id': 1218}, {'name': 'AMLF', 'id': 1869}, {'name': 'British Broadcasting Corporation (BBC)', 'id': 3324}, {'name': 'Greenpoint Films', 'id': 12918}, {'name': 'L Films', 'id': 38781}]        1\n",
       "[{'name': 'Nucleo Internazionale', 'id': 13123}]                                                                                                                                                                                                                                1\n",
       "Name: production_companies, Length: 22704, dtype: int64"
      ]
     },
     "execution_count": 18,
     "metadata": {},
     "output_type": "execute_result"
    }
   ],
   "source": [
    "# looking at the values in the production_companies column\n",
    "movies_metadata['production_companies'].value_counts()"
   ]
  },
  {
   "cell_type": "code",
   "execution_count": 19,
   "metadata": {},
   "outputs": [],
   "source": [
    "# need to convert production_companies to strings\n",
    "movies_metadata['production_companies']=movies_metadata['production_companies'].apply(lambda row: str(row))"
   ]
  },
  {
   "cell_type": "code",
   "execution_count": 20,
   "metadata": {},
   "outputs": [
    {
     "data": {
      "text/plain": [
       "0                                [Pixar Animation Studios]\n",
       "1        [TriStar Pictures, Teitler Film, Interscope Co...\n",
       "2                           [Warner Bros., Lancaster Gate]\n",
       "3                 [Twentieth Century Fox Film Corporation]\n",
       "4             [Sandollar Productions, Touchstone Pictures]\n",
       "                               ...                        \n",
       "45413                                                   []\n",
       "45414                                        [Sine Olivia]\n",
       "45415                            [American World Pictures]\n",
       "45416                                          [Yermoliev]\n",
       "45417                                                   []\n",
       "Name: production_companies_list, Length: 45418, dtype: object"
      ]
     },
     "execution_count": 20,
     "metadata": {},
     "output_type": "execute_result"
    }
   ],
   "source": [
    "#creates a new column production_company_list\n",
    "\n",
    "def extract_prod_company(row):\n",
    "    prod=re.findall(r\"'name':\\s'(.+?)'\",row)\n",
    "    return prod\n",
    "    \n",
    "# extracts production company name into a list\n",
    "movies_metadata['production_companies_list']=movies_metadata['production_companies'].apply(lambda row: extract_prod_company(row))\n",
    "\n",
    "#checking the results\n",
    "movies_metadata['production_companies_list']"
   ]
  },
  {
   "cell_type": "markdown",
   "metadata": {},
   "source": [
    "#### 3.3.2.3 Dealing with missing values"
   ]
  },
  {
   "cell_type": "code",
   "execution_count": 21,
   "metadata": {},
   "outputs": [
    {
     "data": {
      "text/plain": [
       "(11920, 0.26245101061253245)"
      ]
     },
     "execution_count": 21,
     "metadata": {},
     "output_type": "execute_result"
    }
   ],
   "source": [
    "# determining the number of missing values and percentage of missing values\n",
    "prod_non_missing=np.sum(movies_metadata['production_companies_list'].apply(lambda row: bool(row)))\n",
    "\n",
    "prod_missing=len(movies_metadata['production_companies_list']) - prod_non_missing\n",
    "\n",
    "prod_missing, prod_missing/len(movies_metadata['production_companies_list'])"
   ]
  },
  {
   "cell_type": "markdown",
   "metadata": {},
   "source": [
    "#### 3.3.2.4 Range of values for production companies"
   ]
  },
  {
   "cell_type": "code",
   "execution_count": 22,
   "metadata": {},
   "outputs": [
    {
     "data": {
      "text/html": [
       "<div>\n",
       "<style scoped>\n",
       "    .dataframe tbody tr th:only-of-type {\n",
       "        vertical-align: middle;\n",
       "    }\n",
       "\n",
       "    .dataframe tbody tr th {\n",
       "        vertical-align: top;\n",
       "    }\n",
       "\n",
       "    .dataframe thead th {\n",
       "        text-align: right;\n",
       "    }\n",
       "</style>\n",
       "<table border=\"1\" class=\"dataframe\">\n",
       "  <thead>\n",
       "    <tr style=\"text-align: right;\">\n",
       "      <th></th>\n",
       "      <th>production_companies_list</th>\n",
       "    </tr>\n",
       "  </thead>\n",
       "  <tbody>\n",
       "    <tr>\n",
       "      <th>[]</th>\n",
       "      <td>11920</td>\n",
       "    </tr>\n",
       "    <tr>\n",
       "      <th>[Metro-Goldwyn-Mayer (MGM)]</th>\n",
       "      <td>772</td>\n",
       "    </tr>\n",
       "    <tr>\n",
       "      <th>[Warner Bros.]</th>\n",
       "      <td>540</td>\n",
       "    </tr>\n",
       "    <tr>\n",
       "      <th>[Paramount Pictures]</th>\n",
       "      <td>504</td>\n",
       "    </tr>\n",
       "    <tr>\n",
       "      <th>[Twentieth Century Fox Film Corporation]</th>\n",
       "      <td>441</td>\n",
       "    </tr>\n",
       "    <tr>\n",
       "      <th>...</th>\n",
       "      <td>...</td>\n",
       "    </tr>\n",
       "    <tr>\n",
       "      <th>[RTL Entertainment]</th>\n",
       "      <td>1</td>\n",
       "    </tr>\n",
       "    <tr>\n",
       "      <th>[Kartemquin Films, Rise Films]</th>\n",
       "      <td>1</td>\n",
       "    </tr>\n",
       "    <tr>\n",
       "      <th>[TriStar Pictures, Palisades California Inc.]</th>\n",
       "      <td>1</td>\n",
       "    </tr>\n",
       "    <tr>\n",
       "      <th>[BBC Films, Bend It Films, Pathé]</th>\n",
       "      <td>1</td>\n",
       "    </tr>\n",
       "    <tr>\n",
       "      <th>[Columbia Pictures, Village Roadshow Pictures, Big Talk Productions, Sony Pictures Releasing, Sony Pictures Entertainment (SPE), Working Title Films, Blue Sky Films, LStar Capital, Four by Two Films]</th>\n",
       "      <td>1</td>\n",
       "    </tr>\n",
       "  </tbody>\n",
       "</table>\n",
       "<p>22577 rows × 1 columns</p>\n",
       "</div>"
      ],
      "text/plain": [
       "                                                    production_companies_list\n",
       "[]                                                                      11920\n",
       "[Metro-Goldwyn-Mayer (MGM)]                                               772\n",
       "[Warner Bros.]                                                            540\n",
       "[Paramount Pictures]                                                      504\n",
       "[Twentieth Century Fox Film Corporation]                                  441\n",
       "...                                                                       ...\n",
       "[RTL Entertainment]                                                         1\n",
       "[Kartemquin Films, Rise Films]                                              1\n",
       "[TriStar Pictures, Palisades California Inc.]                               1\n",
       "[BBC Films, Bend It Films, Pathé]                                           1\n",
       "[Columbia Pictures, Village Roadshow Pictures, ...                          1\n",
       "\n",
       "[22577 rows x 1 columns]"
      ]
     },
     "execution_count": 22,
     "metadata": {},
     "output_type": "execute_result"
    }
   ],
   "source": [
    "# counts for the different production companies\n",
    "prod_count=pd.DataFrame(movies_metadata['production_companies_list'].value_counts())\n",
    "prod_count"
   ]
  },
  {
   "cell_type": "code",
   "execution_count": 23,
   "metadata": {},
   "outputs": [
    {
     "data": {
      "text/html": [
       "<div>\n",
       "<style scoped>\n",
       "    .dataframe tbody tr th:only-of-type {\n",
       "        vertical-align: middle;\n",
       "    }\n",
       "\n",
       "    .dataframe tbody tr th {\n",
       "        vertical-align: top;\n",
       "    }\n",
       "\n",
       "    .dataframe thead th {\n",
       "        text-align: right;\n",
       "    }\n",
       "</style>\n",
       "<table border=\"1\" class=\"dataframe\">\n",
       "  <thead>\n",
       "    <tr style=\"text-align: right;\">\n",
       "      <th></th>\n",
       "      <th>production_companies_list</th>\n",
       "    </tr>\n",
       "  </thead>\n",
       "  <tbody>\n",
       "    <tr>\n",
       "      <th>count</th>\n",
       "      <td>22577.000000</td>\n",
       "    </tr>\n",
       "    <tr>\n",
       "      <th>mean</th>\n",
       "      <td>2.011693</td>\n",
       "    </tr>\n",
       "    <tr>\n",
       "      <th>std</th>\n",
       "      <td>79.795465</td>\n",
       "    </tr>\n",
       "    <tr>\n",
       "      <th>min</th>\n",
       "      <td>1.000000</td>\n",
       "    </tr>\n",
       "    <tr>\n",
       "      <th>25%</th>\n",
       "      <td>1.000000</td>\n",
       "    </tr>\n",
       "    <tr>\n",
       "      <th>50%</th>\n",
       "      <td>1.000000</td>\n",
       "    </tr>\n",
       "    <tr>\n",
       "      <th>75%</th>\n",
       "      <td>1.000000</td>\n",
       "    </tr>\n",
       "    <tr>\n",
       "      <th>max</th>\n",
       "      <td>11920.000000</td>\n",
       "    </tr>\n",
       "  </tbody>\n",
       "</table>\n",
       "</div>"
      ],
      "text/plain": [
       "       production_companies_list\n",
       "count               22577.000000\n",
       "mean                    2.011693\n",
       "std                    79.795465\n",
       "min                     1.000000\n",
       "25%                     1.000000\n",
       "50%                     1.000000\n",
       "75%                     1.000000\n",
       "max                 11920.000000"
      ]
     },
     "execution_count": 23,
     "metadata": {},
     "output_type": "execute_result"
    }
   ],
   "source": [
    "# descriptive statistics\n",
    "prod_count.describe()"
   ]
  },
  {
   "cell_type": "code",
   "execution_count": 24,
   "metadata": {},
   "outputs": [
    {
     "data": {
      "image/png": "[encoded data removed]",
      "text/plain": [
       "<Figure size 432x288 with 1 Axes>"
      ]
     },
     "metadata": {
      "needs_background": "light"
     },
     "output_type": "display_data"
    }
   ],
   "source": [
    "plt.hist(prod_count['production_companies_list'], bins=100, histtype='bar')\n",
    "plt.show()"
   ]
  },
  {
   "cell_type": "code",
   "execution_count": 25,
   "metadata": {},
   "outputs": [
    {
     "data": {
      "text/plain": [
       "(20233, 0.8961775258005935)"
      ]
     },
     "execution_count": 25,
     "metadata": {},
     "output_type": "execute_result"
    }
   ],
   "source": [
    "prod_count.loc[prod_count['production_companies_list']==1, 'production_companies_list'].sum(), prod_count.loc[prod_count['production_companies_list']==1, 'production_companies_list'].sum()/prod_count.shape[0]"
   ]
  },
  {
   "cell_type": "markdown",
   "metadata": {},
   "source": [
    "#### 3.3.2.5 Dropping production_companies"
   ]
  },
  {
   "cell_type": "code",
   "execution_count": 26,
   "metadata": {},
   "outputs": [
    {
     "data": {
      "text/plain": [
       "Index(['adult', 'budget', 'id', 'imdb_id', 'original_language',\n",
       "       'original_title', 'overview', 'poster_path', 'production_companies',\n",
       "       'production_countries', 'release_date', 'revenue', 'runtime',\n",
       "       'spoken_languages', 'status', 'title', 'vote_average', 'vote_count',\n",
       "       'new_budget', 'genres_list', 'Animation', 'Comedy', 'Family',\n",
       "       'Adventure', 'Fantasy', 'Romance', 'Drama', 'Action', 'Crime',\n",
       "       'Thriller', 'Horror', 'History', 'Mystery', 'War', 'Foreign', 'Music',\n",
       "       'Documentary', 'Western', 'production_companies_list'],\n",
       "      dtype='object')"
      ]
     },
     "execution_count": 26,
     "metadata": {},
     "output_type": "execute_result"
    }
   ],
   "source": [
    "movies_metadata.columns"
   ]
  },
  {
   "cell_type": "code",
   "execution_count": 27,
   "metadata": {},
   "outputs": [
    {
     "data": {
      "text/plain": [
       "Index(['adult', 'budget', 'id', 'imdb_id', 'original_language',\n",
       "       'original_title', 'overview', 'poster_path', 'production_countries',\n",
       "       'release_date', 'revenue', 'runtime', 'spoken_languages', 'status',\n",
       "       'title', 'vote_average', 'vote_count', 'new_budget', 'genres_list',\n",
       "       'Animation', 'Comedy', 'Family', 'Adventure', 'Fantasy', 'Romance',\n",
       "       'Drama', 'Action', 'Crime', 'Thriller', 'Horror', 'History', 'Mystery',\n",
       "       'War', 'Foreign', 'Music', 'Documentary', 'Western',\n",
       "       'production_companies_list'],\n",
       "      dtype='object')"
      ]
     },
     "execution_count": 27,
     "metadata": {},
     "output_type": "execute_result"
    }
   ],
   "source": [
    "# dropping indicated columns\n",
    "movies_metadata.drop(columns=['production_companies'], inplace=True)\n",
    "\n",
    "# makeing sure the proper columns are dropped\n",
    "movies_metadata.columns"
   ]
  },
  {
   "cell_type": "markdown",
   "metadata": {},
   "source": [
    "#### 3.3.2.6 Production Companies Conclusion"
   ]
  },
  {
   "cell_type": "markdown",
   "metadata": {},
   "source": [
    "There are 1192 movies missing production company, which accounts for approximately 26% of the movies. There are 22292 different production companies or combination of production companies. From those 22292 companies, the majority only have one movie in the sample because the interquartile range is 0. In fact, 19997 companies only have one movie, which is 89.7% of the movies. Thus, I dropped production companies from the dataset."
   ]
  },
  {
   "cell_type": "markdown",
   "metadata": {},
   "source": [
    "### 3.3.3 Adult, status, original_title, production_countries, run_time, and poster_path"
   ]
  },
  {
   "cell_type": "markdown",
   "metadata": {},
   "source": [
    "#### 3.3.3.1 dropping status, adult and poster path"
   ]
  },
  {
   "cell_type": "code",
   "execution_count": 28,
   "metadata": {},
   "outputs": [
    {
     "data": {
      "text/plain": [
       "Index(['budget', 'id', 'imdb_id', 'original_language', 'overview',\n",
       "       'release_date', 'revenue', 'spoken_languages', 'title', 'vote_average',\n",
       "       'vote_count', 'new_budget', 'genres_list', 'Animation', 'Comedy',\n",
       "       'Family', 'Adventure', 'Fantasy', 'Romance', 'Drama', 'Action', 'Crime',\n",
       "       'Thriller', 'Horror', 'History', 'Mystery', 'War', 'Foreign', 'Music',\n",
       "       'Documentary', 'Western', 'production_companies_list'],\n",
       "      dtype='object')"
      ]
     },
     "execution_count": 28,
     "metadata": {},
     "output_type": "execute_result"
    }
   ],
   "source": [
    "# drop columns\n",
    "movies_metadata.drop(columns=['adult', 'poster_path', 'status', 'original_title', 'production_countries', 'runtime'], inplace=True)\n",
    "\n",
    "# ensuring the columns are dropped\n",
    "movies_metadata.columns"
   ]
  },
  {
   "cell_type": "markdown",
   "metadata": {},
   "source": [
    "### 3.3.4 Budget"
   ]
  },
  {
   "cell_type": "markdown",
   "metadata": {},
   "source": [
    "#### 3.3.4.1 Descriptive Statistics"
   ]
  },
  {
   "cell_type": "code",
   "execution_count": 29,
   "metadata": {},
   "outputs": [
    {
     "data": {
      "text/plain": [
       "count    4.541800e+04\n",
       "mean     4.225889e+06\n",
       "std      1.743071e+07\n",
       "min      0.000000e+00\n",
       "25%      0.000000e+00\n",
       "50%      0.000000e+00\n",
       "75%      0.000000e+00\n",
       "max      3.800000e+08\n",
       "Name: budget, dtype: float64"
      ]
     },
     "execution_count": 29,
     "metadata": {},
     "output_type": "execute_result"
    }
   ],
   "source": [
    "movies_metadata['budget'].describe()"
   ]
  },
  {
   "cell_type": "code",
   "execution_count": 30,
   "metadata": {},
   "outputs": [
    {
     "data": {
      "image/png": "[encoded data removed]",
      "text/plain": [
       "<Figure size 432x288 with 1 Axes>"
      ]
     },
     "metadata": {
      "needs_background": "light"
     },
     "output_type": "display_data"
    }
   ],
   "source": [
    "# histogram for budget\n",
    "bins=int(np.sqrt(len(movies_metadata['budget'])))\n",
    "plt.hist(movies_metadata['budget'], bins=bins, histtype='bar')\n",
    "plt.xlabel('movie budget (dollars)')\n",
    "plt.ylabel('count')\n",
    "plt.show()"
   ]
  },
  {
   "cell_type": "code",
   "execution_count": 31,
   "metadata": {},
   "outputs": [
    {
     "data": {
      "image/png": "[encoded data removed]",
      "text/plain": [
       "<Figure size 432x288 with 1 Axes>"
      ]
     },
     "metadata": {
      "needs_background": "light"
     },
     "output_type": "display_data"
    }
   ],
   "source": [
    "# ECDF for budget\n",
    "\n",
    "def ECDF(var):\n",
    "    x=np.sort(var)\n",
    "    y=np.arange(1, len(x)+1)/len(x)\n",
    "    \n",
    "    return x,y\n",
    "\n",
    "x, y= ECDF(movies_metadata['budget'])\n",
    "\n",
    "plt.plot(x, y, linestyle='none', marker='.')\n",
    "plt.xlabel('movie budget (dollars)')\n",
    "plt.ylabel(' cumulative probability')\n",
    "plt.show()"
   ]
  },
  {
   "cell_type": "markdown",
   "metadata": {},
   "source": [
    "#### 3.3.4.2 Getting Count variables for budget"
   ]
  },
  {
   "cell_type": "code",
   "execution_count": 32,
   "metadata": {},
   "outputs": [],
   "source": [
    "budget_count=pd.DataFrame(movies_metadata['budget'].value_counts())\n",
    "budget_count.rename({'budget':'count'}, axis=1, inplace=True)"
   ]
  },
  {
   "cell_type": "code",
   "execution_count": 33,
   "metadata": {},
   "outputs": [
    {
     "data": {
      "text/html": [
       "<div>\n",
       "<style scoped>\n",
       "    .dataframe tbody tr th:only-of-type {\n",
       "        vertical-align: middle;\n",
       "    }\n",
       "\n",
       "    .dataframe tbody tr th {\n",
       "        vertical-align: top;\n",
       "    }\n",
       "\n",
       "    .dataframe thead th {\n",
       "        text-align: right;\n",
       "    }\n",
       "</style>\n",
       "<table border=\"1\" class=\"dataframe\">\n",
       "  <thead>\n",
       "    <tr style=\"text-align: right;\">\n",
       "      <th></th>\n",
       "      <th>count</th>\n",
       "      <th>prop_count</th>\n",
       "    </tr>\n",
       "  </thead>\n",
       "  <tbody>\n",
       "    <tr>\n",
       "      <th>0</th>\n",
       "      <td>36539</td>\n",
       "      <td>0.804505</td>\n",
       "    </tr>\n",
       "    <tr>\n",
       "      <th>5000000</th>\n",
       "      <td>286</td>\n",
       "      <td>0.006297</td>\n",
       "    </tr>\n",
       "    <tr>\n",
       "      <th>10000000</th>\n",
       "      <td>258</td>\n",
       "      <td>0.005681</td>\n",
       "    </tr>\n",
       "    <tr>\n",
       "      <th>20000000</th>\n",
       "      <td>243</td>\n",
       "      <td>0.005350</td>\n",
       "    </tr>\n",
       "    <tr>\n",
       "      <th>2000000</th>\n",
       "      <td>242</td>\n",
       "      <td>0.005328</td>\n",
       "    </tr>\n",
       "  </tbody>\n",
       "</table>\n",
       "</div>"
      ],
      "text/plain": [
       "          count  prop_count\n",
       "0         36539    0.804505\n",
       "5000000     286    0.006297\n",
       "10000000    258    0.005681\n",
       "20000000    243    0.005350\n",
       "2000000     242    0.005328"
      ]
     },
     "execution_count": 33,
     "metadata": {},
     "output_type": "execute_result"
    }
   ],
   "source": [
    "# determining the percentage of data points in each category\n",
    "budget_count['prop_count']=budget_count['count'].apply(lambda row: row/np.sum(budget_count['count']))\n",
    "budget_count.head()"
   ]
  },
  {
   "cell_type": "markdown",
   "metadata": {},
   "source": [
    "#### 3.3.4.3 Budget Summary"
   ]
  },
  {
   "cell_type": "markdown",
   "metadata": {},
   "source": [
    "Since about 80% of budget data is zero, budget is not likely to provide useful information. "
   ]
  },
  {
   "cell_type": "markdown",
   "metadata": {},
   "source": [
    "### 3.3.5 new_budget"
   ]
  },
  {
   "cell_type": "markdown",
   "metadata": {},
   "source": [
    "#### 3.3.5.1 Descriptive Statistics"
   ]
  },
  {
   "cell_type": "code",
   "execution_count": 34,
   "metadata": {},
   "outputs": [
    {
     "data": {
      "text/plain": [
       "count     45418\n",
       "unique     1451\n",
       "top           0\n",
       "freq      25216\n",
       "Name: new_budget, dtype: object"
      ]
     },
     "execution_count": 34,
     "metadata": {},
     "output_type": "execute_result"
    }
   ],
   "source": [
    "movies_metadata['new_budget'].describe()"
   ]
  },
  {
   "cell_type": "code",
   "execution_count": 35,
   "metadata": {},
   "outputs": [
    {
     "data": {
      "text/plain": [
       "0           36539\n",
       "5000000       232\n",
       "10000000      219\n",
       "20000000      218\n",
       "15000000      209\n",
       "            ...  \n",
       "25485000        1\n",
       "478375          1\n",
       "7300            1\n",
       "2970000         1\n",
       "2494400         1\n",
       "Name: new_budget, Length: 1449, dtype: int64"
      ]
     },
     "execution_count": 35,
     "metadata": {},
     "output_type": "execute_result"
    }
   ],
   "source": [
    "# replaces 0 and 'np.nan' with '0'\n",
    "movies_metadata['new_budget']=movies_metadata['new_budget'].replace({0:'0', 'np.nan':'0'})\n",
    "\n",
    "movies_metadata['new_budget'].value_counts()"
   ]
  },
  {
   "cell_type": "code",
   "execution_count": 36,
   "metadata": {},
   "outputs": [
    {
     "data": {
      "text/plain": [
       "count    4.541800e+04\n",
       "mean     4.225889e+06\n",
       "std      1.743071e+07\n",
       "min      0.000000e+00\n",
       "25%      0.000000e+00\n",
       "50%      0.000000e+00\n",
       "75%      0.000000e+00\n",
       "max      3.800000e+08\n",
       "Name: new_budget, dtype: float64"
      ]
     },
     "execution_count": 36,
     "metadata": {},
     "output_type": "execute_result"
    }
   ],
   "source": [
    "# make budget an integer\n",
    "movies_metadata['new_budget']=movies_metadata['new_budget'].apply(lambda row: int(row))\n",
    "\n",
    "# descriptive statistics again\n",
    "movies_metadata['new_budget'].describe()\n"
   ]
  },
  {
   "cell_type": "code",
   "execution_count": 37,
   "metadata": {},
   "outputs": [
    {
     "data": {
      "image/png": "[encoded data removed]",
      "text/plain": [
       "<Figure size 432x288 with 1 Axes>"
      ]
     },
     "metadata": {
      "needs_background": "light"
     },
     "output_type": "display_data"
    }
   ],
   "source": [
    "# plotting a histogram\n",
    "bins=int(np.sqrt(len(movies_metadata['new_budget'])))\n",
    "plt.hist(movies_metadata['new_budget'], bins=bins, histtype='bar')\n",
    "plt.xlabel('movie budget')\n",
    "plt.ylabel('counts')\n",
    "plt.show()"
   ]
  },
  {
   "cell_type": "code",
   "execution_count": 38,
   "metadata": {},
   "outputs": [
    {
     "data": {
      "image/png": "[encoded data removed]",
      "text/plain": [
       "<Figure size 432x288 with 1 Axes>"
      ]
     },
     "metadata": {
      "needs_background": "light"
     },
     "output_type": "display_data"
    }
   ],
   "source": [
    "# plotting ECDF for new_budget\n",
    "x, y = ECDF(movies_metadata['new_budget'])\n",
    "\n",
    "plt.plot(x, y, linestyle='none', marker='.')\n",
    "plt.xlabel('movie new_budget (dollars)')\n",
    "plt.ylabel('cumulative probability')\n",
    "plt.show()"
   ]
  },
  {
   "cell_type": "markdown",
   "metadata": {},
   "source": [
    "#### 3.3.5.2 correlation between budget and new_budget"
   ]
  },
  {
   "cell_type": "code",
   "execution_count": 39,
   "metadata": {},
   "outputs": [
    {
     "data": {
      "text/plain": [
       "array([[1., 1.],\n",
       "       [1., 1.]])"
      ]
     },
     "execution_count": 39,
     "metadata": {},
     "output_type": "execute_result"
    }
   ],
   "source": [
    "np.corrcoef(movies_metadata['budget'], movies_metadata['new_budget'])"
   ]
  },
  {
   "cell_type": "markdown",
   "metadata": {},
   "source": [
    "#### 3.3.5.3 Droping budget and new_budget"
   ]
  },
  {
   "cell_type": "code",
   "execution_count": 40,
   "metadata": {},
   "outputs": [],
   "source": [
    "movies_metadata.drop(columns=['budget', 'new_budget'], inplace=True)"
   ]
  },
  {
   "cell_type": "markdown",
   "metadata": {},
   "source": [
    "#### 3.3.5.4 new_budget Summary"
   ]
  },
  {
   "cell_type": "markdown",
   "metadata": {},
   "source": [
    "Budget and new_budget have a correlation coefficient of 1 and their ECDF's look identical; therefore, they contain the same information. Since budget doesn't contain useful information, new_budget also doesn't contain useful information. "
   ]
  },
  {
   "cell_type": "markdown",
   "metadata": {},
   "source": [
    "### 3.3.6 original_language"
   ]
  },
  {
   "cell_type": "markdown",
   "metadata": {},
   "source": [
    "#### 3.3.6.1 Descriptive Statistics"
   ]
  },
  {
   "cell_type": "code",
   "execution_count": 41,
   "metadata": {},
   "outputs": [
    {
     "data": {
      "text/plain": [
       "count     45407\n",
       "unique       90\n",
       "top          en\n",
       "freq      32239\n",
       "Name: original_language, dtype: object"
      ]
     },
     "execution_count": 41,
     "metadata": {},
     "output_type": "execute_result"
    }
   ],
   "source": [
    "movies_metadata['original_language'].describe()"
   ]
  },
  {
   "cell_type": "markdown",
   "metadata": {},
   "source": [
    "#### 3.3.6.2 Value counts"
   ]
  },
  {
   "cell_type": "code",
   "execution_count": 42,
   "metadata": {},
   "outputs": [
    {
     "data": {
      "text/html": [
       "<div>\n",
       "<style scoped>\n",
       "    .dataframe tbody tr th:only-of-type {\n",
       "        vertical-align: middle;\n",
       "    }\n",
       "\n",
       "    .dataframe tbody tr th {\n",
       "        vertical-align: top;\n",
       "    }\n",
       "\n",
       "    .dataframe thead th {\n",
       "        text-align: right;\n",
       "    }\n",
       "</style>\n",
       "<table border=\"1\" class=\"dataframe\">\n",
       "  <thead>\n",
       "    <tr style=\"text-align: right;\">\n",
       "      <th></th>\n",
       "      <th>count</th>\n",
       "      <th>prop_count</th>\n",
       "    </tr>\n",
       "  </thead>\n",
       "  <tbody>\n",
       "    <tr>\n",
       "      <th>en</th>\n",
       "      <td>32239</td>\n",
       "      <td>0.710001</td>\n",
       "    </tr>\n",
       "    <tr>\n",
       "      <th>fr</th>\n",
       "      <td>2435</td>\n",
       "      <td>0.053626</td>\n",
       "    </tr>\n",
       "    <tr>\n",
       "      <th>it</th>\n",
       "      <td>1529</td>\n",
       "      <td>0.033673</td>\n",
       "    </tr>\n",
       "    <tr>\n",
       "      <th>ja</th>\n",
       "      <td>1346</td>\n",
       "      <td>0.029643</td>\n",
       "    </tr>\n",
       "    <tr>\n",
       "      <th>de</th>\n",
       "      <td>1079</td>\n",
       "      <td>0.023763</td>\n",
       "    </tr>\n",
       "  </tbody>\n",
       "</table>\n",
       "</div>"
      ],
      "text/plain": [
       "    count  prop_count\n",
       "en  32239    0.710001\n",
       "fr   2435    0.053626\n",
       "it   1529    0.033673\n",
       "ja   1346    0.029643\n",
       "de   1079    0.023763"
      ]
     },
     "execution_count": 42,
     "metadata": {},
     "output_type": "execute_result"
    }
   ],
   "source": [
    "# creating counts for each language\n",
    "language_count=pd.DataFrame(movies_metadata['original_language'].value_counts())\n",
    "language_count.rename({'original_language':\"count\"}, axis=1, inplace=True)\n",
    "\n",
    "language_count['prop_count']=language_count['count'].apply(lambda row: row/np.sum(language_count['count']))\n",
    "language_count.head()"
   ]
  },
  {
   "cell_type": "code",
   "execution_count": 43,
   "metadata": {},
   "outputs": [
    {
     "data": {
      "text/plain": [
       "count       90.000000\n",
       "mean       504.522222\n",
       "std       3403.055257\n",
       "min          1.000000\n",
       "25%          2.000000\n",
       "50%         11.000000\n",
       "75%         94.500000\n",
       "max      32239.000000\n",
       "Name: count, dtype: float64"
      ]
     },
     "execution_count": 43,
     "metadata": {},
     "output_type": "execute_result"
    }
   ],
   "source": [
    "# descriptive statistics for the counts\n",
    "language_count['count'].describe()"
   ]
  },
  {
   "cell_type": "code",
   "execution_count": 44,
   "metadata": {},
   "outputs": [
    {
     "data": {
      "image/png": "[encoded data removed]",
      "text/plain": [
       "<Figure size 432x288 with 1 Axes>"
      ]
     },
     "metadata": {
      "needs_background": "light"
     },
     "output_type": "display_data"
    }
   ],
   "source": [
    "# bar plot for the number of movies with each original language\n",
    "fig, ax = plt.subplots()\n",
    "\n",
    "ax.bar(language_count.index, height=language_count['count'])\n",
    "ax.set_xticklabels(language_count.index, rotation=90)\n",
    "ax.set_xlabel('original language')\n",
    "ax.set_ylabel('count')\n",
    "plt.show()"
   ]
  },
  {
   "cell_type": "code",
   "execution_count": 45,
   "metadata": {},
   "outputs": [
    {
     "data": {
      "image/png": "[encoded data removed]",
      "text/plain": [
       "<Figure size 432x288 with 1 Axes>"
      ]
     },
     "metadata": {
      "needs_background": "light"
     },
     "output_type": "display_data"
    }
   ],
   "source": [
    "# plotting ECDF for the counts\n",
    "x, y= ECDF(language_count['count'])\n",
    "\n",
    "plt.plot(x, y, linestyle='none', marker='.')\n",
    "plt.xlabel('count')\n",
    "plt.ylabel('cumulative probability')\n",
    "plt.show()"
   ]
  },
  {
   "cell_type": "code",
   "execution_count": 46,
   "metadata": {},
   "outputs": [
    {
     "data": {
      "text/plain": [
       "111"
      ]
     },
     "execution_count": 46,
     "metadata": {},
     "output_type": "execute_result"
    }
   ],
   "source": [
    "language_count.loc[language_count['count']<10, 'count'].sum()"
   ]
  },
  {
   "cell_type": "markdown",
   "metadata": {},
   "source": [
    "#### 3.3.6.3 Creating other language category"
   ]
  },
  {
   "cell_type": "code",
   "execution_count": 47,
   "metadata": {},
   "outputs": [
    {
     "data": {
      "text/plain": [
       "Index(['sk', 'lt', 'ur', 'nb', 'wo', 'ms', 'mk', 'sh', 'sq', 'eu', 'ky', 'kn',\n",
       "       'bm', 'kk', 'ku', 'lo', 'am', 'ne', 'ps', 'pa', 'iu', 'af', 'bo', 'mn',\n",
       "       'zu', 'ay', 'gl', 'jv', 'qu', 'si', 'lb', 'eo', 'sm', 'uz', 'la', 'fy',\n",
       "       'cy', '104.0', 'tg', 'rw', 'hy', 'mt'],\n",
       "      dtype='object')"
      ]
     },
     "execution_count": 47,
     "metadata": {},
     "output_type": "execute_result"
    }
   ],
   "source": [
    "# collecting languages that are used in less than 10 movies\n",
    "other_language=language_count[language_count['count']<10].index\n",
    "other_language"
   ]
  },
  {
   "cell_type": "code",
   "execution_count": 48,
   "metadata": {},
   "outputs": [
    {
     "data": {
      "text/plain": [
       "{'sk': 'other',\n",
       " 'lt': 'other',\n",
       " 'ur': 'other',\n",
       " 'nb': 'other',\n",
       " 'wo': 'other',\n",
       " 'ms': 'other',\n",
       " 'mk': 'other',\n",
       " 'sh': 'other',\n",
       " 'sq': 'other',\n",
       " 'eu': 'other',\n",
       " 'ky': 'other',\n",
       " 'kn': 'other',\n",
       " 'bm': 'other',\n",
       " 'kk': 'other',\n",
       " 'ku': 'other',\n",
       " 'lo': 'other',\n",
       " 'am': 'other',\n",
       " 'ne': 'other',\n",
       " 'ps': 'other',\n",
       " 'pa': 'other',\n",
       " 'iu': 'other',\n",
       " 'af': 'other',\n",
       " 'bo': 'other',\n",
       " 'mn': 'other',\n",
       " 'zu': 'other',\n",
       " 'ay': 'other',\n",
       " 'gl': 'other',\n",
       " 'jv': 'other',\n",
       " 'qu': 'other',\n",
       " 'si': 'other',\n",
       " 'lb': 'other',\n",
       " 'eo': 'other',\n",
       " 'sm': 'other',\n",
       " 'uz': 'other',\n",
       " 'la': 'other',\n",
       " 'fy': 'other',\n",
       " 'cy': 'other',\n",
       " '104.0': 'other',\n",
       " 'tg': 'other',\n",
       " 'rw': 'other',\n",
       " 'hy': 'other',\n",
       " 'mt': 'other'}"
      ]
     },
     "execution_count": 48,
     "metadata": {},
     "output_type": "execute_result"
    }
   ],
   "source": [
    "# create a dictionary to replace them with 'other'\n",
    "\n",
    "other_dict={}\n",
    "\n",
    "for lan in other_language:\n",
    "    other_dict[lan]='other'\n",
    "    \n",
    "other_dict"
   ]
  },
  {
   "cell_type": "code",
   "execution_count": 49,
   "metadata": {},
   "outputs": [
    {
     "data": {
      "text/plain": [
       "111"
      ]
     },
     "execution_count": 49,
     "metadata": {},
     "output_type": "execute_result"
    }
   ],
   "source": [
    "# replace the selected languages with other\n",
    "movies_metadata['original_language'].replace(other_dict, inplace=True)\n",
    "\n",
    "# testing\n",
    "len(movies_metadata.loc[movies_metadata['original_language']=='other', 'original_language'])"
   ]
  },
  {
   "cell_type": "code",
   "execution_count": 50,
   "metadata": {},
   "outputs": [
    {
     "data": {
      "image/png": "[encoded data removed]",
      "text/plain": [
       "<Figure size 432x288 with 1 Axes>"
      ]
     },
     "metadata": {
      "needs_background": "light"
     },
     "output_type": "display_data"
    }
   ],
   "source": [
    "# replotting the bar graph\n",
    "\n",
    "# creating counts for each language\n",
    "language_count=pd.DataFrame(movies_metadata['original_language'].value_counts())\n",
    "language_count.rename({'original_language':\"count\"}, axis=1, inplace=True)\n",
    "\n",
    "language_count['prop_count']=language_count['count'].apply(lambda row: row/np.sum(language_count['count']))\n",
    "language_count.head()\n",
    "\n",
    "# bar plot for the number of movies with each original language\n",
    "fig, ax = plt.subplots()\n",
    "\n",
    "ax.bar(language_count.index, height=language_count['count'])\n",
    "ax.set_xticklabels(language_count.index, rotation=90)\n",
    "ax.set_xlabel('original language')\n",
    "ax.set_ylabel('count')\n",
    "plt.show()"
   ]
  },
  {
   "cell_type": "markdown",
   "metadata": {},
   "source": [
    "### 3.3.6.4 Original Language Summary"
   ]
  },
  {
   "cell_type": "markdown",
   "metadata": {},
   "source": [
    "Approximately 71% of the movies were originally created in English. The second most common language is French with 5%. There are 111 languages that have less than 10 movies, which were replaced with 'other'. Since languages are skewed to only a few, I will not be using languages in my analysis"
   ]
  },
  {
   "cell_type": "markdown",
   "metadata": {},
   "source": [
    "### 3.3.7 Spoken Languages"
   ]
  },
  {
   "cell_type": "markdown",
   "metadata": {},
   "source": [
    "#### 3.3.7.1 Spoken Language Formatting"
   ]
  },
  {
   "cell_type": "code",
   "execution_count": 51,
   "metadata": {},
   "outputs": [],
   "source": [
    "# make sure spoken language is a string\n",
    "movies_metadata['spoken_languages']=movies_metadata['spoken_languages'].astype(str)"
   ]
  },
  {
   "cell_type": "markdown",
   "metadata": {},
   "source": [
    "#### 3.3.7.2 Extracting data"
   ]
  },
  {
   "cell_type": "code",
   "execution_count": 52,
   "metadata": {},
   "outputs": [],
   "source": [
    "# function that collects the spoken languages\n",
    "def extract_language(row):\n",
    "    lang=re.findall(r\"'iso_639_1':\\s'(\\w+)\", row)\n",
    "    return lang\n"
   ]
  },
  {
   "cell_type": "code",
   "execution_count": 53,
   "metadata": {},
   "outputs": [],
   "source": [
    "# extracting the spoken languages\n",
    "movies_metadata['spoken_languages_list']=movies_metadata['spoken_languages'].apply(lambda row: extract_language(row))"
   ]
  },
  {
   "cell_type": "code",
   "execution_count": 54,
   "metadata": {},
   "outputs": [],
   "source": [
    "# function creates count and proportion for strings\n",
    "def string_count(colname, df):\n",
    "    \"\"\"This function take a dataframe df and a column name colname where the column is a string, and creates a dataframe \n",
    "    with a count and proportion for each group of strings.\"\"\"\n",
    "    \n",
    "    col_count=pd.DataFrame(movies_metadata[colname].value_counts())\n",
    "    col_count.rename({colname:\"count\"}, axis=1, inplace=True)\n",
    "\n",
    "    col_count['prop_count']=col_count['count'].apply(lambda row: row/np.sum(col_count['count']))\n",
    "    return col_count\n"
   ]
  },
  {
   "cell_type": "markdown",
   "metadata": {},
   "source": [
    "#### 3.3.7.3 Descriptive Statistics"
   ]
  },
  {
   "cell_type": "code",
   "execution_count": 55,
   "metadata": {},
   "outputs": [
    {
     "data": {
      "text/plain": [
       "[en]                        22379\n",
       "[]                           3824\n",
       "[fr]                         1850\n",
       "[ja]                         1286\n",
       "[it]                         1218\n",
       "                            ...  \n",
       "[fa, en, fr, hi]                1\n",
       "[es, en, ko]                    1\n",
       "[ja, ko, es]                    1\n",
       "[sq, en, fr, ru, sh, es]        1\n",
       "[de, en, es, fr, ru]            1\n",
       "Name: spoken_languages_list, Length: 1931, dtype: int64"
      ]
     },
     "execution_count": 55,
     "metadata": {},
     "output_type": "execute_result"
    }
   ],
   "source": [
    "movies_metadata['spoken_languages_list'].value_counts()"
   ]
  },
  {
   "cell_type": "code",
   "execution_count": 56,
   "metadata": {},
   "outputs": [
    {
     "data": {
      "text/html": [
       "<div>\n",
       "<style scoped>\n",
       "    .dataframe tbody tr th:only-of-type {\n",
       "        vertical-align: middle;\n",
       "    }\n",
       "\n",
       "    .dataframe tbody tr th {\n",
       "        vertical-align: top;\n",
       "    }\n",
       "\n",
       "    .dataframe thead th {\n",
       "        text-align: right;\n",
       "    }\n",
       "</style>\n",
       "<table border=\"1\" class=\"dataframe\">\n",
       "  <thead>\n",
       "    <tr style=\"text-align: right;\">\n",
       "      <th></th>\n",
       "      <th>count</th>\n",
       "      <th>prop_count</th>\n",
       "    </tr>\n",
       "  </thead>\n",
       "  <tbody>\n",
       "    <tr>\n",
       "      <th>[en]</th>\n",
       "      <td>22379</td>\n",
       "      <td>0.492734</td>\n",
       "    </tr>\n",
       "    <tr>\n",
       "      <th>[]</th>\n",
       "      <td>3824</td>\n",
       "      <td>0.084196</td>\n",
       "    </tr>\n",
       "    <tr>\n",
       "      <th>[fr]</th>\n",
       "      <td>1850</td>\n",
       "      <td>0.040733</td>\n",
       "    </tr>\n",
       "    <tr>\n",
       "      <th>[ja]</th>\n",
       "      <td>1286</td>\n",
       "      <td>0.028315</td>\n",
       "    </tr>\n",
       "    <tr>\n",
       "      <th>[it]</th>\n",
       "      <td>1218</td>\n",
       "      <td>0.026818</td>\n",
       "    </tr>\n",
       "    <tr>\n",
       "      <th>...</th>\n",
       "      <td>...</td>\n",
       "      <td>...</td>\n",
       "    </tr>\n",
       "    <tr>\n",
       "      <th>[fa, en, fr, hi]</th>\n",
       "      <td>1</td>\n",
       "      <td>0.000022</td>\n",
       "    </tr>\n",
       "    <tr>\n",
       "      <th>[es, en, ko]</th>\n",
       "      <td>1</td>\n",
       "      <td>0.000022</td>\n",
       "    </tr>\n",
       "    <tr>\n",
       "      <th>[ja, ko, es]</th>\n",
       "      <td>1</td>\n",
       "      <td>0.000022</td>\n",
       "    </tr>\n",
       "    <tr>\n",
       "      <th>[sq, en, fr, ru, sh, es]</th>\n",
       "      <td>1</td>\n",
       "      <td>0.000022</td>\n",
       "    </tr>\n",
       "    <tr>\n",
       "      <th>[de, en, es, fr, ru]</th>\n",
       "      <td>1</td>\n",
       "      <td>0.000022</td>\n",
       "    </tr>\n",
       "  </tbody>\n",
       "</table>\n",
       "<p>1931 rows × 2 columns</p>\n",
       "</div>"
      ],
      "text/plain": [
       "                          count  prop_count\n",
       "[en]                      22379    0.492734\n",
       "[]                         3824    0.084196\n",
       "[fr]                       1850    0.040733\n",
       "[ja]                       1286    0.028315\n",
       "[it]                       1218    0.026818\n",
       "...                         ...         ...\n",
       "[fa, en, fr, hi]              1    0.000022\n",
       "[es, en, ko]                  1    0.000022\n",
       "[ja, ko, es]                  1    0.000022\n",
       "[sq, en, fr, ru, sh, es]      1    0.000022\n",
       "[de, en, es, fr, ru]          1    0.000022\n",
       "\n",
       "[1931 rows x 2 columns]"
      ]
     },
     "execution_count": 56,
     "metadata": {},
     "output_type": "execute_result"
    }
   ],
   "source": [
    "spoken_language_count=string_count('spoken_languages_list', movies_metadata)\n",
    "\n",
    "spoken_language_count"
   ]
  },
  {
   "cell_type": "markdown",
   "metadata": {},
   "source": [
    "#### 3.3.7.3 Descriptive Statistics"
   ]
  },
  {
   "cell_type": "code",
   "execution_count": 57,
   "metadata": {},
   "outputs": [
    {
     "data": {
      "text/plain": [
       "count     1931.000000\n",
       "mean        23.520456\n",
       "std        521.762337\n",
       "min          1.000000\n",
       "25%          1.000000\n",
       "50%          1.000000\n",
       "75%          2.000000\n",
       "max      22379.000000\n",
       "Name: count, dtype: float64"
      ]
     },
     "execution_count": 57,
     "metadata": {},
     "output_type": "execute_result"
    }
   ],
   "source": [
    "spoken_language_count['count'].describe()"
   ]
  },
  {
   "cell_type": "code",
   "execution_count": 58,
   "metadata": {},
   "outputs": [
    {
     "data": {
      "image/png": "[encoded data removed]",
      "text/plain": [
       "<Figure size 432x288 with 1 Axes>"
      ]
     },
     "metadata": {
      "needs_background": "light"
     },
     "output_type": "display_data"
    }
   ],
   "source": [
    "# ECDF for spoken languages count\n",
    "x,y=ECDF(spoken_language_count['count'])\n",
    "\n",
    "plt.plot(x, y, linestyle='none', marker='.')\n",
    "plt.xlabel('spoken language counts')\n",
    "plt.ylabel('probability')\n",
    "plt.show()"
   ]
  },
  {
   "cell_type": "markdown",
   "metadata": {},
   "source": [
    "#### 3.3.7.4 spoken language summary"
   ]
  },
  {
   "cell_type": "markdown",
   "metadata": {},
   "source": [
    "English is the most spoken language in the set because it is the only language spoken in 49% of the movies. Approximately 8% of the movies is missing spoken language data. French is the second most spoken language at 4% of movies speaking French. From the ECDF, it appears that the majority of languages are only spoken in one movie, which is further supported because the IQR for the language counts is 1 with a mean of 1 and a minimum of 1. Thus, the middle 50% of languages are only spoken in 1 or 2 movies. Due to the highly skewed data, spoken languages will likely not provide useful information in detecting similarities between movies"
   ]
  },
  {
   "cell_type": "markdown",
   "metadata": {},
   "source": [
    "### 3.3.8 id, imdb_id, and title"
   ]
  },
  {
   "cell_type": "markdown",
   "metadata": {},
   "source": [
    "id, imdb_id, and title will not be used in analysis since these items are unique for each row; however, I will keep the data in the table for now in case I need the information. Also, id will be used to merge the movies_metadata with the links and credits databases"
   ]
  },
  {
   "cell_type": "markdown",
   "metadata": {},
   "source": [
    "### 3.3.9 overview"
   ]
  },
  {
   "cell_type": "code",
   "execution_count": 59,
   "metadata": {},
   "outputs": [
    {
     "data": {
      "text/html": [
       "<div>\n",
       "<style scoped>\n",
       "    .dataframe tbody tr th:only-of-type {\n",
       "        vertical-align: middle;\n",
       "    }\n",
       "\n",
       "    .dataframe tbody tr th {\n",
       "        vertical-align: top;\n",
       "    }\n",
       "\n",
       "    .dataframe thead th {\n",
       "        text-align: right;\n",
       "    }\n",
       "</style>\n",
       "<table border=\"1\" class=\"dataframe\">\n",
       "  <thead>\n",
       "    <tr style=\"text-align: right;\">\n",
       "      <th></th>\n",
       "      <th>id</th>\n",
       "      <th>imdb_id</th>\n",
       "      <th>original_language</th>\n",
       "      <th>overview</th>\n",
       "      <th>release_date</th>\n",
       "      <th>revenue</th>\n",
       "      <th>spoken_languages</th>\n",
       "      <th>title</th>\n",
       "      <th>vote_average</th>\n",
       "      <th>vote_count</th>\n",
       "      <th>...</th>\n",
       "      <th>Horror</th>\n",
       "      <th>History</th>\n",
       "      <th>Mystery</th>\n",
       "      <th>War</th>\n",
       "      <th>Foreign</th>\n",
       "      <th>Music</th>\n",
       "      <th>Documentary</th>\n",
       "      <th>Western</th>\n",
       "      <th>production_companies_list</th>\n",
       "      <th>spoken_languages_list</th>\n",
       "    </tr>\n",
       "  </thead>\n",
       "  <tbody>\n",
       "    <tr>\n",
       "      <th>0</th>\n",
       "      <td>862</td>\n",
       "      <td>tt0114709</td>\n",
       "      <td>en</td>\n",
       "      <td>Led by Woody, Andy's toys live happily in his ...</td>\n",
       "      <td>1995-10-30</td>\n",
       "      <td>373554033.0</td>\n",
       "      <td>[{'iso_639_1': 'en', 'name': 'English'}]</td>\n",
       "      <td>Toy Story</td>\n",
       "      <td>7.7</td>\n",
       "      <td>5415.0</td>\n",
       "      <td>...</td>\n",
       "      <td>0</td>\n",
       "      <td>0</td>\n",
       "      <td>0</td>\n",
       "      <td>0</td>\n",
       "      <td>0</td>\n",
       "      <td>0</td>\n",
       "      <td>0</td>\n",
       "      <td>0</td>\n",
       "      <td>[Pixar Animation Studios]</td>\n",
       "      <td>[en]</td>\n",
       "    </tr>\n",
       "    <tr>\n",
       "      <th>1</th>\n",
       "      <td>8844</td>\n",
       "      <td>tt0113497</td>\n",
       "      <td>en</td>\n",
       "      <td>When siblings Judy and Peter discover an encha...</td>\n",
       "      <td>1995-12-15</td>\n",
       "      <td>262797249.0</td>\n",
       "      <td>[{'iso_639_1': 'en', 'name': 'English'}, {'iso...</td>\n",
       "      <td>Jumanji</td>\n",
       "      <td>6.9</td>\n",
       "      <td>2413.0</td>\n",
       "      <td>...</td>\n",
       "      <td>0</td>\n",
       "      <td>0</td>\n",
       "      <td>0</td>\n",
       "      <td>0</td>\n",
       "      <td>0</td>\n",
       "      <td>0</td>\n",
       "      <td>0</td>\n",
       "      <td>0</td>\n",
       "      <td>[TriStar Pictures, Teitler Film, Interscope Co...</td>\n",
       "      <td>[en, fr]</td>\n",
       "    </tr>\n",
       "    <tr>\n",
       "      <th>2</th>\n",
       "      <td>15602</td>\n",
       "      <td>tt0113228</td>\n",
       "      <td>en</td>\n",
       "      <td>A family wedding reignites the ancient feud be...</td>\n",
       "      <td>1995-12-22</td>\n",
       "      <td>0.0</td>\n",
       "      <td>[{'iso_639_1': 'en', 'name': 'English'}]</td>\n",
       "      <td>Grumpier Old Men</td>\n",
       "      <td>6.5</td>\n",
       "      <td>92.0</td>\n",
       "      <td>...</td>\n",
       "      <td>0</td>\n",
       "      <td>0</td>\n",
       "      <td>0</td>\n",
       "      <td>0</td>\n",
       "      <td>0</td>\n",
       "      <td>0</td>\n",
       "      <td>0</td>\n",
       "      <td>0</td>\n",
       "      <td>[Warner Bros., Lancaster Gate]</td>\n",
       "      <td>[en]</td>\n",
       "    </tr>\n",
       "  </tbody>\n",
       "</table>\n",
       "<p>3 rows × 31 columns</p>\n",
       "</div>"
      ],
      "text/plain": [
       "      id    imdb_id original_language  \\\n",
       "0    862  tt0114709                en   \n",
       "1   8844  tt0113497                en   \n",
       "2  15602  tt0113228                en   \n",
       "\n",
       "                                            overview release_date  \\\n",
       "0  Led by Woody, Andy's toys live happily in his ...   1995-10-30   \n",
       "1  When siblings Judy and Peter discover an encha...   1995-12-15   \n",
       "2  A family wedding reignites the ancient feud be...   1995-12-22   \n",
       "\n",
       "       revenue                                   spoken_languages  \\\n",
       "0  373554033.0           [{'iso_639_1': 'en', 'name': 'English'}]   \n",
       "1  262797249.0  [{'iso_639_1': 'en', 'name': 'English'}, {'iso...   \n",
       "2          0.0           [{'iso_639_1': 'en', 'name': 'English'}]   \n",
       "\n",
       "              title  vote_average  vote_count  ... Horror  History  Mystery  \\\n",
       "0         Toy Story           7.7      5415.0  ...      0        0        0   \n",
       "1           Jumanji           6.9      2413.0  ...      0        0        0   \n",
       "2  Grumpier Old Men           6.5        92.0  ...      0        0        0   \n",
       "\n",
       "   War  Foreign  Music  Documentary  Western  \\\n",
       "0    0        0      0            0        0   \n",
       "1    0        0      0            0        0   \n",
       "2    0        0      0            0        0   \n",
       "\n",
       "                           production_companies_list  spoken_languages_list  \n",
       "0                          [Pixar Animation Studios]                   [en]  \n",
       "1  [TriStar Pictures, Teitler Film, Interscope Co...               [en, fr]  \n",
       "2                     [Warner Bros., Lancaster Gate]                   [en]  \n",
       "\n",
       "[3 rows x 31 columns]"
      ]
     },
     "execution_count": 59,
     "metadata": {},
     "output_type": "execute_result"
    }
   ],
   "source": [
    "movies_metadata.head(3)"
   ]
  },
  {
   "cell_type": "markdown",
   "metadata": {},
   "source": [
    "Overview contains a string of information that provides an overview of the movie. This data will not be used in this model; however, NLP techniques could be utilized on it at a later time"
   ]
  },
  {
   "cell_type": "code",
   "execution_count": 60,
   "metadata": {},
   "outputs": [
    {
     "data": {
      "text/plain": [
       "Index(['id', 'imdb_id', 'original_language', 'overview', 'release_date',\n",
       "       'revenue', 'spoken_languages', 'title', 'vote_average', 'vote_count',\n",
       "       'genres_list', 'Animation', 'Comedy', 'Family', 'Adventure', 'Fantasy',\n",
       "       'Romance', 'Drama', 'Action', 'Crime', 'Thriller', 'Horror', 'History',\n",
       "       'Mystery', 'War', 'Foreign', 'Music', 'Documentary', 'Western',\n",
       "       'production_companies_list', 'spoken_languages_list'],\n",
       "      dtype='object')"
      ]
     },
     "execution_count": 60,
     "metadata": {},
     "output_type": "execute_result"
    }
   ],
   "source": [
    "movies_metadata.columns"
   ]
  },
  {
   "cell_type": "markdown",
   "metadata": {},
   "source": [
    "### 3.3.10 Release_date"
   ]
  },
  {
   "cell_type": "markdown",
   "metadata": {},
   "source": [
    "#### 3.3.10.1 Release Date Formatting"
   ]
  },
  {
   "cell_type": "code",
   "execution_count": 61,
   "metadata": {},
   "outputs": [
    {
     "data": {
      "text/plain": [
       "id                            object\n",
       "imdb_id                       object\n",
       "original_language             object\n",
       "overview                      object\n",
       "release_date                  object\n",
       "revenue                      float64\n",
       "spoken_languages              object\n",
       "title                         object\n",
       "vote_average                 float64\n",
       "vote_count                   float64\n",
       "genres_list                   object\n",
       "Animation                      int64\n",
       "Comedy                         int64\n",
       "Family                         int64\n",
       "Adventure                      int64\n",
       "Fantasy                        int64\n",
       "Romance                        int64\n",
       "Drama                          int64\n",
       "Action                         int64\n",
       "Crime                          int64\n",
       "Thriller                       int64\n",
       "Horror                         int64\n",
       "History                        int64\n",
       "Mystery                        int64\n",
       "War                            int64\n",
       "Foreign                        int64\n",
       "Music                          int64\n",
       "Documentary                    int64\n",
       "Western                        int64\n",
       "production_companies_list     object\n",
       "spoken_languages_list         object\n",
       "dtype: object"
      ]
     },
     "execution_count": 61,
     "metadata": {},
     "output_type": "execute_result"
    }
   ],
   "source": [
    "#checking data types\n",
    "movies_metadata.dtypes"
   ]
  },
  {
   "cell_type": "code",
   "execution_count": 62,
   "metadata": {},
   "outputs": [
    {
     "data": {
      "text/plain": [
       "id                           False\n",
       "imdb_id                       True\n",
       "original_language             True\n",
       "overview                      True\n",
       "release_date                  True\n",
       "revenue                       True\n",
       "spoken_languages             False\n",
       "title                         True\n",
       "vote_average                  True\n",
       "vote_count                    True\n",
       "genres_list                  False\n",
       "Animation                    False\n",
       "Comedy                       False\n",
       "Family                       False\n",
       "Adventure                    False\n",
       "Fantasy                      False\n",
       "Romance                      False\n",
       "Drama                        False\n",
       "Action                       False\n",
       "Crime                        False\n",
       "Thriller                     False\n",
       "Horror                       False\n",
       "History                      False\n",
       "Mystery                      False\n",
       "War                          False\n",
       "Foreign                      False\n",
       "Music                        False\n",
       "Documentary                  False\n",
       "Western                      False\n",
       "production_companies_list    False\n",
       "spoken_languages_list        False\n",
       "dtype: bool"
      ]
     },
     "execution_count": 62,
     "metadata": {},
     "output_type": "execute_result"
    }
   ],
   "source": [
    "# checkin for missing values\n",
    "movies_metadata.isna().any()"
   ]
  },
  {
   "cell_type": "code",
   "execution_count": 63,
   "metadata": {},
   "outputs": [
    {
     "data": {
      "text/plain": [
       "0    1995-10-30\n",
       "1    1995-12-15\n",
       "2    1995-12-22\n",
       "3    1995-12-22\n",
       "4    1995-02-10\n",
       "5    1995-12-15\n",
       "6    1995-12-15\n",
       "7    1995-12-22\n",
       "8    1995-12-22\n",
       "9    1995-11-16\n",
       "Name: release_date, dtype: object"
      ]
     },
     "execution_count": 63,
     "metadata": {},
     "output_type": "execute_result"
    }
   ],
   "source": [
    "# determining date time format\n",
    "movies_metadata['release_date'][:10]"
   ]
  },
  {
   "cell_type": "code",
   "execution_count": 64,
   "metadata": {},
   "outputs": [],
   "source": [
    "# ensure release date is a string\n",
    "movies_metadata['release_date']=movies_metadata['release_date'].astype(str)\n",
    "\n",
    "# replace 'nan' with 1776-07-04\n",
    "movies_metadata['release_date']=movies_metadata['release_date'].replace('nan', '1776-07-04')"
   ]
  },
  {
   "cell_type": "code",
   "execution_count": 65,
   "metadata": {},
   "outputs": [],
   "source": [
    "# convert the string into a datetime\n",
    "movies_metadata['release_date']=movies_metadata['release_date'].apply(lambda row: datetime.strptime(row, '%Y-%m-%d'))"
   ]
  },
  {
   "cell_type": "code",
   "execution_count": 66,
   "metadata": {},
   "outputs": [
    {
     "data": {
      "text/plain": [
       "id                                   object\n",
       "imdb_id                              object\n",
       "original_language                    object\n",
       "overview                             object\n",
       "release_date                 datetime64[ns]\n",
       "revenue                             float64\n",
       "spoken_languages                     object\n",
       "title                                object\n",
       "vote_average                        float64\n",
       "vote_count                          float64\n",
       "genres_list                          object\n",
       "Animation                             int64\n",
       "Comedy                                int64\n",
       "Family                                int64\n",
       "Adventure                             int64\n",
       "Fantasy                               int64\n",
       "Romance                               int64\n",
       "Drama                                 int64\n",
       "Action                                int64\n",
       "Crime                                 int64\n",
       "Thriller                              int64\n",
       "Horror                                int64\n",
       "History                               int64\n",
       "Mystery                               int64\n",
       "War                                   int64\n",
       "Foreign                               int64\n",
       "Music                                 int64\n",
       "Documentary                           int64\n",
       "Western                               int64\n",
       "production_companies_list            object\n",
       "spoken_languages_list                object\n",
       "dtype: object"
      ]
     },
     "execution_count": 66,
     "metadata": {},
     "output_type": "execute_result"
    }
   ],
   "source": [
    "# checking to make sure it worked\n",
    "movies_metadata.dtypes"
   ]
  },
  {
   "cell_type": "markdown",
   "metadata": {},
   "source": [
    "#### 3.3.10.2 Release Date Descriptive Statistics"
   ]
  },
  {
   "cell_type": "code",
   "execution_count": 67,
   "metadata": {},
   "outputs": [
    {
     "data": {
      "text/plain": [
       "count                   45418\n",
       "unique                  17334\n",
       "top       2008-01-01 00:00:00\n",
       "freq                      136\n",
       "first     1776-07-04 00:00:00\n",
       "last      2020-12-16 00:00:00\n",
       "Name: release_date, dtype: object"
      ]
     },
     "execution_count": 67,
     "metadata": {},
     "output_type": "execute_result"
    }
   ],
   "source": [
    "movies_metadata['release_date'].describe()"
   ]
  },
  {
   "cell_type": "code",
   "execution_count": 68,
   "metadata": {},
   "outputs": [
    {
     "data": {
      "image/png": "[encoded data removed]",
      "text/plain": [
       "<Figure size 432x288 with 1 Axes>"
      ]
     },
     "metadata": {
      "needs_background": "light"
     },
     "output_type": "display_data"
    }
   ],
   "source": [
    "# plotting a historgram of the dates\n",
    "bins=int(np.sqrt(len(movies_metadata['release_date'])))\n",
    "plt.hist(movies_metadata['release_date'], bins=bins, histtype='bar')\n",
    "plt.xlabel('relase date')\n",
    "plt.ylabel('counts')\n",
    "plt.show()"
   ]
  },
  {
   "cell_type": "code",
   "execution_count": 69,
   "metadata": {},
   "outputs": [
    {
     "data": {
      "text/html": [
       "<div>\n",
       "<style scoped>\n",
       "    .dataframe tbody tr th:only-of-type {\n",
       "        vertical-align: middle;\n",
       "    }\n",
       "\n",
       "    .dataframe tbody tr th {\n",
       "        vertical-align: top;\n",
       "    }\n",
       "\n",
       "    .dataframe thead th {\n",
       "        text-align: right;\n",
       "    }\n",
       "</style>\n",
       "<table border=\"1\" class=\"dataframe\">\n",
       "  <thead>\n",
       "    <tr style=\"text-align: right;\">\n",
       "      <th></th>\n",
       "      <th>date</th>\n",
       "      <th>count</th>\n",
       "      <th>prop_count</th>\n",
       "    </tr>\n",
       "  </thead>\n",
       "  <tbody>\n",
       "    <tr>\n",
       "      <th>7</th>\n",
       "      <td>1776-07-04</td>\n",
       "      <td>85</td>\n",
       "      <td>0.001872</td>\n",
       "    </tr>\n",
       "    <tr>\n",
       "      <th>11756</th>\n",
       "      <td>1874-12-09</td>\n",
       "      <td>1</td>\n",
       "      <td>0.000022</td>\n",
       "    </tr>\n",
       "    <tr>\n",
       "      <th>11497</th>\n",
       "      <td>1878-06-14</td>\n",
       "      <td>1</td>\n",
       "      <td>0.000022</td>\n",
       "    </tr>\n",
       "    <tr>\n",
       "      <th>14939</th>\n",
       "      <td>1883-11-19</td>\n",
       "      <td>1</td>\n",
       "      <td>0.000022</td>\n",
       "    </tr>\n",
       "    <tr>\n",
       "      <th>12847</th>\n",
       "      <td>1887-08-18</td>\n",
       "      <td>1</td>\n",
       "      <td>0.000022</td>\n",
       "    </tr>\n",
       "    <tr>\n",
       "      <th>...</th>\n",
       "      <td>...</td>\n",
       "      <td>...</td>\n",
       "      <td>...</td>\n",
       "    </tr>\n",
       "    <tr>\n",
       "      <th>11360</th>\n",
       "      <td>2018-04-04</td>\n",
       "      <td>1</td>\n",
       "      <td>0.000022</td>\n",
       "    </tr>\n",
       "    <tr>\n",
       "      <th>9318</th>\n",
       "      <td>2018-04-25</td>\n",
       "      <td>1</td>\n",
       "      <td>0.000022</td>\n",
       "    </tr>\n",
       "    <tr>\n",
       "      <th>12381</th>\n",
       "      <td>2018-11-07</td>\n",
       "      <td>1</td>\n",
       "      <td>0.000022</td>\n",
       "    </tr>\n",
       "    <tr>\n",
       "      <th>14521</th>\n",
       "      <td>2018-12-31</td>\n",
       "      <td>1</td>\n",
       "      <td>0.000022</td>\n",
       "    </tr>\n",
       "    <tr>\n",
       "      <th>9757</th>\n",
       "      <td>2020-12-16</td>\n",
       "      <td>1</td>\n",
       "      <td>0.000022</td>\n",
       "    </tr>\n",
       "  </tbody>\n",
       "</table>\n",
       "<p>17334 rows × 3 columns</p>\n",
       "</div>"
      ],
      "text/plain": [
       "            date  count  prop_count\n",
       "7     1776-07-04     85    0.001872\n",
       "11756 1874-12-09      1    0.000022\n",
       "11497 1878-06-14      1    0.000022\n",
       "14939 1883-11-19      1    0.000022\n",
       "12847 1887-08-18      1    0.000022\n",
       "...          ...    ...         ...\n",
       "11360 2018-04-04      1    0.000022\n",
       "9318  2018-04-25      1    0.000022\n",
       "12381 2018-11-07      1    0.000022\n",
       "14521 2018-12-31      1    0.000022\n",
       "9757  2020-12-16      1    0.000022\n",
       "\n",
       "[17334 rows x 3 columns]"
      ]
     },
     "execution_count": 69,
     "metadata": {},
     "output_type": "execute_result"
    }
   ],
   "source": [
    "# getting counts for the release dates\n",
    "release_date_count=string_count('release_date', movies_metadata)\n",
    "\n",
    "release_date_count.reset_index(inplace=True)\n",
    "release_date_count.rename({'index':'date'}, axis=1, inplace=True)\n",
    "release_date_count.sort_values('date')"
   ]
  },
  {
   "cell_type": "markdown",
   "metadata": {},
   "source": [
    "#### 3.3.10.3 Replacing incorrect values"
   ]
  },
  {
   "cell_type": "code",
   "execution_count": 70,
   "metadata": {},
   "outputs": [],
   "source": [
    "# function replace any date that occurs after 1888-10-14 with 1776-07-04\n",
    "def replace_date(row):\n",
    "    if row < datetime.strptime('1888-10-14', '%Y-%m-%d'):\n",
    "        row=datetime.strptime('1776-07-04', '%Y-%m-%d')\n",
    "    return row"
   ]
  },
  {
   "cell_type": "code",
   "execution_count": 71,
   "metadata": {},
   "outputs": [],
   "source": [
    "# replace incorrect dates\n",
    "movies_metadata['release_date']=movies_metadata['release_date'].apply(lambda row: replace_date(row))"
   ]
  },
  {
   "cell_type": "code",
   "execution_count": 72,
   "metadata": {},
   "outputs": [
    {
     "data": {
      "text/html": [
       "<div>\n",
       "<style scoped>\n",
       "    .dataframe tbody tr th:only-of-type {\n",
       "        vertical-align: middle;\n",
       "    }\n",
       "\n",
       "    .dataframe tbody tr th {\n",
       "        vertical-align: top;\n",
       "    }\n",
       "\n",
       "    .dataframe thead th {\n",
       "        text-align: right;\n",
       "    }\n",
       "</style>\n",
       "<table border=\"1\" class=\"dataframe\">\n",
       "  <thead>\n",
       "    <tr style=\"text-align: right;\">\n",
       "      <th></th>\n",
       "      <th>date</th>\n",
       "      <th>count</th>\n",
       "      <th>prop_count</th>\n",
       "    </tr>\n",
       "  </thead>\n",
       "  <tbody>\n",
       "    <tr>\n",
       "      <th>7</th>\n",
       "      <td>1776-07-04</td>\n",
       "      <td>90</td>\n",
       "      <td>0.001982</td>\n",
       "    </tr>\n",
       "    <tr>\n",
       "      <th>16480</th>\n",
       "      <td>1888-10-15</td>\n",
       "      <td>1</td>\n",
       "      <td>0.000022</td>\n",
       "    </tr>\n",
       "    <tr>\n",
       "      <th>16388</th>\n",
       "      <td>1890-01-01</td>\n",
       "      <td>1</td>\n",
       "      <td>0.000022</td>\n",
       "    </tr>\n",
       "    <tr>\n",
       "      <th>11210</th>\n",
       "      <td>1890-03-09</td>\n",
       "      <td>1</td>\n",
       "      <td>0.000022</td>\n",
       "    </tr>\n",
       "    <tr>\n",
       "      <th>4397</th>\n",
       "      <td>1890-11-21</td>\n",
       "      <td>3</td>\n",
       "      <td>0.000066</td>\n",
       "    </tr>\n",
       "    <tr>\n",
       "      <th>...</th>\n",
       "      <td>...</td>\n",
       "      <td>...</td>\n",
       "      <td>...</td>\n",
       "    </tr>\n",
       "    <tr>\n",
       "      <th>10815</th>\n",
       "      <td>2018-04-04</td>\n",
       "      <td>1</td>\n",
       "      <td>0.000022</td>\n",
       "    </tr>\n",
       "    <tr>\n",
       "      <th>8792</th>\n",
       "      <td>2018-04-25</td>\n",
       "      <td>1</td>\n",
       "      <td>0.000022</td>\n",
       "    </tr>\n",
       "    <tr>\n",
       "      <th>9603</th>\n",
       "      <td>2018-11-07</td>\n",
       "      <td>1</td>\n",
       "      <td>0.000022</td>\n",
       "    </tr>\n",
       "    <tr>\n",
       "      <th>12252</th>\n",
       "      <td>2018-12-31</td>\n",
       "      <td>1</td>\n",
       "      <td>0.000022</td>\n",
       "    </tr>\n",
       "    <tr>\n",
       "      <th>8814</th>\n",
       "      <td>2020-12-16</td>\n",
       "      <td>1</td>\n",
       "      <td>0.000022</td>\n",
       "    </tr>\n",
       "  </tbody>\n",
       "</table>\n",
       "<p>17329 rows × 3 columns</p>\n",
       "</div>"
      ],
      "text/plain": [
       "            date  count  prop_count\n",
       "7     1776-07-04     90    0.001982\n",
       "16480 1888-10-15      1    0.000022\n",
       "16388 1890-01-01      1    0.000022\n",
       "11210 1890-03-09      1    0.000022\n",
       "4397  1890-11-21      3    0.000066\n",
       "...          ...    ...         ...\n",
       "10815 2018-04-04      1    0.000022\n",
       "8792  2018-04-25      1    0.000022\n",
       "9603  2018-11-07      1    0.000022\n",
       "12252 2018-12-31      1    0.000022\n",
       "8814  2020-12-16      1    0.000022\n",
       "\n",
       "[17329 rows x 3 columns]"
      ]
     },
     "execution_count": 72,
     "metadata": {},
     "output_type": "execute_result"
    }
   ],
   "source": [
    "# verifying dates are replaced\n",
    "release_date_count=string_count('release_date', movies_metadata)\n",
    "\n",
    "release_date_count.reset_index(inplace=True)\n",
    "release_date_count.rename({'index':'date'}, axis=1, inplace=True)\n",
    "release_date_count.sort_values('date')"
   ]
  },
  {
   "cell_type": "code",
   "execution_count": 73,
   "metadata": {},
   "outputs": [
    {
     "data": {
      "image/png": "[encoded data removed]",
      "text/plain": [
       "<Figure size 432x288 with 1 Axes>"
      ]
     },
     "metadata": {
      "needs_background": "light"
     },
     "output_type": "display_data"
    }
   ],
   "source": [
    "# plotting a historgram of the dates\n",
    "bins=int(np.sqrt(len(movies_metadata['release_date'])))\n",
    "plt.hist(movies_metadata['release_date'], bins=bins, histtype='bar')\n",
    "plt.xlabel('relase date')\n",
    "plt.ylabel('counts')\n",
    "plt.show()"
   ]
  },
  {
   "cell_type": "markdown",
   "metadata": {},
   "source": [
    "#### 3.3.10.3 Investigating the release dates by year"
   ]
  },
  {
   "cell_type": "code",
   "execution_count": 74,
   "metadata": {},
   "outputs": [],
   "source": [
    "# extracts year from release date\n",
    "movies_metadata['release_year']=movies_metadata['release_date'].apply(lambda row: row.year)"
   ]
  },
  {
   "cell_type": "code",
   "execution_count": 75,
   "metadata": {},
   "outputs": [
    {
     "data": {
      "image/png": "[encoded data removed]",
      "text/plain": [
       "<Figure size 432x288 with 1 Axes>"
      ]
     },
     "metadata": {
      "needs_background": "light"
     },
     "output_type": "display_data"
    }
   ],
   "source": [
    "# plotting a historgram for release year\n",
    "bins=int(np.sqrt(len(movies_metadata['release_year'])))\n",
    "plt.hist(movies_metadata['release_year'], bins=bins, histtype='bar')\n",
    "plt.xlabel('relase date')\n",
    "plt.ylabel('counts')\n",
    "plt.show()"
   ]
  },
  {
   "cell_type": "code",
   "execution_count": 76,
   "metadata": {},
   "outputs": [
    {
     "data": {
      "image/png": "[encoded data removed]",
      "text/plain": [
       "<Figure size 432x288 with 1 Axes>"
      ]
     },
     "metadata": {
      "needs_background": "light"
     },
     "output_type": "display_data"
    }
   ],
   "source": [
    "# graphing ECDF for release year\n",
    "x, y=ECDF(movies_metadata['release_year'])\n",
    "\n",
    "plt.plot(x, y, marker='.', linestyle='none')\n",
    "plt.xlabel('years')\n",
    "plt.ylabel('probability')\n",
    "plt.show()"
   ]
  },
  {
   "cell_type": "code",
   "execution_count": 77,
   "metadata": {
    "scrolled": true
   },
   "outputs": [
    {
     "data": {
      "text/plain": [
       "count    45418.000000\n",
       "mean      1991.464375\n",
       "std         25.853491\n",
       "min       1776.000000\n",
       "25%       1978.000000\n",
       "50%       2001.000000\n",
       "75%       2010.000000\n",
       "max       2020.000000\n",
       "Name: release_year, dtype: float64"
      ]
     },
     "execution_count": 77,
     "metadata": {},
     "output_type": "execute_result"
    }
   ],
   "source": [
    "# descriptive statistics\n",
    "movies_metadata['release_year'].describe()"
   ]
  },
  {
   "cell_type": "markdown",
   "metadata": {},
   "source": [
    "#### 3.3.10.4 release date summary"
   ]
  },
  {
   "cell_type": "markdown",
   "metadata": {},
   "source": [
    "The dates are left skewed, with the majorities occurs in the 2000' and on. Those movies with the date of 1776-07-04 are missing values. Since the first film was recorded on 1888-10-14, all of the dates prior to this are likely a mistake, so those dates will be reset to 1776-07-04. The median release year is 2001 with an IQR of 32 years, so the bulk of the movies are release between 1978 and 2010. "
   ]
  },
  {
   "cell_type": "markdown",
   "metadata": {},
   "source": [
    "### 3.3.11 Average Vote Count"
   ]
  },
  {
   "cell_type": "markdown",
   "metadata": {},
   "source": [
    "#### 3.3.11.1 formatting"
   ]
  },
  {
   "cell_type": "code",
   "execution_count": 78,
   "metadata": {},
   "outputs": [
    {
     "data": {
      "text/plain": [
       "array([ 7.7,  6.9,  6.5,  6.1,  5.7,  6.2,  5.4,  5.5,  6.6,  7.1,  7.8,\n",
       "        7.2,  6.4,  6. ,  6.3,  7. ,  7.4,  7.6,  6.8,  7.3,  3.5,  6.7,\n",
       "        8.1,  5.9,  5.2,  3. ,  5.8,  4.5,  4.4,  2.8,  4.1,  5.1,  3.9,\n",
       "        7.5,  0. ,  7.9,  5.6,  3.3,  5.3,  4.3,  3.8,  5. ,  4. , 10. ,\n",
       "        4.9,  4.6,  4.7,  2.5,  4.8,  8.2,  8.3,  8.5,  8. ,  2. ,  3.4,\n",
       "        3.7,  4.2,  3.6,  2.7,  3.2,  2.9,  9. ,  9.3,  8.8,  8.7,  1.5,\n",
       "        1.7,  3.1,  1. ,  8.4,  2.4,  8.6,  8.9,  1.2,  1.6,  2.3,  1.3,\n",
       "        1.9,  0.5,  2.1,  2.6,  9.1,  1.8,  9.5,  9.2,  9.6,  2.2,  nan,\n",
       "        1.4,  9.8,  9.4,  0.7,  1.1])"
      ]
     },
     "execution_count": 78,
     "metadata": {},
     "output_type": "execute_result"
    }
   ],
   "source": [
    "# Looking at the range of possible values\n",
    "movies_metadata['vote_average'].unique()"
   ]
  },
  {
   "cell_type": "code",
   "execution_count": 79,
   "metadata": {},
   "outputs": [
    {
     "data": {
      "text/plain": [
       "False"
      ]
     },
     "execution_count": 79,
     "metadata": {},
     "output_type": "execute_result"
    }
   ],
   "source": [
    "# replacing nan with 0\n",
    "movies_metadata['vote_average']=movies_metadata['vote_average'].fillna(0)\n",
    "\n",
    "#verifying it worked\n",
    "movies_metadata['vote_average'].isna().any()"
   ]
  },
  {
   "cell_type": "markdown",
   "metadata": {},
   "source": [
    "#### 3.3.11.2 Descriptive Statistics"
   ]
  },
  {
   "cell_type": "code",
   "execution_count": 80,
   "metadata": {},
   "outputs": [
    {
     "data": {
      "text/plain": [
       "count    45418.000000\n",
       "mean         5.618369\n",
       "std          1.923848\n",
       "min          0.000000\n",
       "25%          5.000000\n",
       "50%          6.000000\n",
       "75%          6.800000\n",
       "max         10.000000\n",
       "Name: vote_average, dtype: float64"
      ]
     },
     "execution_count": 80,
     "metadata": {},
     "output_type": "execute_result"
    }
   ],
   "source": [
    "movies_metadata['vote_average'].describe()"
   ]
  },
  {
   "cell_type": "code",
   "execution_count": 81,
   "metadata": {},
   "outputs": [
    {
     "data": {
      "image/png": "[encoded data removed]",
      "text/plain": [
       "<Figure size 432x288 with 1 Axes>"
      ]
     },
     "metadata": {
      "needs_background": "light"
     },
     "output_type": "display_data"
    }
   ],
   "source": [
    "# bar graph for average vote count\n",
    "plt.hist(movies_metadata['vote_average'], bins=100, histtype='bar')\n",
    "plt.xlabel('Average Vote')\n",
    "plt.ylabel('Number of Movies')\n",
    "plt.show()"
   ]
  },
  {
   "cell_type": "code",
   "execution_count": 82,
   "metadata": {},
   "outputs": [
    {
     "data": {
      "image/png": "[encoded data removed]",
      "text/plain": [
       "<Figure size 432x288 with 1 Axes>"
      ]
     },
     "metadata": {
      "needs_background": "light"
     },
     "output_type": "display_data"
    }
   ],
   "source": [
    "#ECDF for average vote\n",
    "x, y =ECDF(movies_metadata['vote_average'])\n",
    "\n",
    "plt.plot(x, y, marker='.', linestyle='none')\n",
    "plt.xlabel('average vote')\n",
    "plt.ylabel('percentile')\n",
    "plt.show()"
   ]
  },
  {
   "cell_type": "code",
   "execution_count": 83,
   "metadata": {},
   "outputs": [
    {
     "data": {
      "text/html": [
       "<div>\n",
       "<style scoped>\n",
       "    .dataframe tbody tr th:only-of-type {\n",
       "        vertical-align: middle;\n",
       "    }\n",
       "\n",
       "    .dataframe tbody tr th {\n",
       "        vertical-align: top;\n",
       "    }\n",
       "\n",
       "    .dataframe thead th {\n",
       "        text-align: right;\n",
       "    }\n",
       "</style>\n",
       "<table border=\"1\" class=\"dataframe\">\n",
       "  <thead>\n",
       "    <tr style=\"text-align: right;\">\n",
       "      <th></th>\n",
       "      <th>count</th>\n",
       "      <th>prop_count</th>\n",
       "    </tr>\n",
       "  </thead>\n",
       "  <tbody>\n",
       "    <tr>\n",
       "      <th>0.0</th>\n",
       "      <td>2993</td>\n",
       "      <td>0.065899</td>\n",
       "    </tr>\n",
       "    <tr>\n",
       "      <th>6.0</th>\n",
       "      <td>2467</td>\n",
       "      <td>0.054318</td>\n",
       "    </tr>\n",
       "    <tr>\n",
       "      <th>5.0</th>\n",
       "      <td>1996</td>\n",
       "      <td>0.043947</td>\n",
       "    </tr>\n",
       "    <tr>\n",
       "      <th>7.0</th>\n",
       "      <td>1884</td>\n",
       "      <td>0.041481</td>\n",
       "    </tr>\n",
       "    <tr>\n",
       "      <th>6.5</th>\n",
       "      <td>1721</td>\n",
       "      <td>0.037892</td>\n",
       "    </tr>\n",
       "    <tr>\n",
       "      <th>...</th>\n",
       "      <td>...</td>\n",
       "      <td>...</td>\n",
       "    </tr>\n",
       "    <tr>\n",
       "      <th>9.4</th>\n",
       "      <td>3</td>\n",
       "      <td>0.000066</td>\n",
       "    </tr>\n",
       "    <tr>\n",
       "      <th>9.8</th>\n",
       "      <td>1</td>\n",
       "      <td>0.000022</td>\n",
       "    </tr>\n",
       "    <tr>\n",
       "      <th>0.7</th>\n",
       "      <td>1</td>\n",
       "      <td>0.000022</td>\n",
       "    </tr>\n",
       "    <tr>\n",
       "      <th>9.6</th>\n",
       "      <td>1</td>\n",
       "      <td>0.000022</td>\n",
       "    </tr>\n",
       "    <tr>\n",
       "      <th>1.1</th>\n",
       "      <td>1</td>\n",
       "      <td>0.000022</td>\n",
       "    </tr>\n",
       "  </tbody>\n",
       "</table>\n",
       "<p>92 rows × 2 columns</p>\n",
       "</div>"
      ],
      "text/plain": [
       "     count  prop_count\n",
       "0.0   2993    0.065899\n",
       "6.0   2467    0.054318\n",
       "5.0   1996    0.043947\n",
       "7.0   1884    0.041481\n",
       "6.5   1721    0.037892\n",
       "..     ...         ...\n",
       "9.4      3    0.000066\n",
       "9.8      1    0.000022\n",
       "0.7      1    0.000022\n",
       "9.6      1    0.000022\n",
       "1.1      1    0.000022\n",
       "\n",
       "[92 rows x 2 columns]"
      ]
     },
     "execution_count": 83,
     "metadata": {},
     "output_type": "execute_result"
    }
   ],
   "source": [
    "string_count('vote_average', movies_metadata)"
   ]
  },
  {
   "cell_type": "markdown",
   "metadata": {},
   "source": [
    "#### 3.3.11.3 Outlier Detection"
   ]
  },
  {
   "cell_type": "code",
   "execution_count": 84,
   "metadata": {},
   "outputs": [],
   "source": [
    "def outlier_detect(colname, df):\n",
    "    \"\"\"outlier detection is based on 1.5 times the iqr. The function looks at each value an determines if\n",
    "    it is a potential outlier. Make sure to create a new column caller 'outlier' in df before applying \n",
    "    this function.\n",
    "    \n",
    "    outlier_detect(colname, df)\n",
    "    where colname is the column name and df is the dataframe you are interested in\"\"\"\n",
    "    \n",
    "    \n",
    "    percent25=df[colname].quantile(.25)\n",
    "    percent75=df[colname].quantile(.75)\n",
    "    iqr=percent75 - percent25\n",
    "    \n",
    "    upper=percent75 + 1.5*iqr\n",
    "    lower=percent25 - 1.5*iqr\n",
    "    \n",
    "    return lower, upper\n",
    "    \n",
    "    "
   ]
  },
  {
   "cell_type": "code",
   "execution_count": 85,
   "metadata": {},
   "outputs": [
    {
     "name": "stdout",
     "output_type": "stream",
     "text": [
      "The lower limit for outlier detection is 2.3 while the upper limit is 9.5\n"
     ]
    }
   ],
   "source": [
    "# determing the upper and lower limits for possible outliers\n",
    "lower, upper = outlier_detect('vote_average', movies_metadata)\n",
    "\n",
    "print('The lower limit for outlier detection is {} while the upper limit is {}'.format(round(lower, 1), round(upper, 1)))"
   ]
  },
  {
   "cell_type": "code",
   "execution_count": 86,
   "metadata": {},
   "outputs": [],
   "source": [
    "# creating an outlier column\n",
    "outlier=movies_metadata\n",
    "outlier['outlier']=movies_metadata['vote_average'].apply(lambda row: 'outlier' if (row < lower or row > upper) else 'non-outlier')"
   ]
  },
  {
   "cell_type": "code",
   "execution_count": 87,
   "metadata": {},
   "outputs": [
    {
     "data": {
      "text/html": [
       "<div>\n",
       "<style scoped>\n",
       "    .dataframe tbody tr th:only-of-type {\n",
       "        vertical-align: middle;\n",
       "    }\n",
       "\n",
       "    .dataframe tbody tr th {\n",
       "        vertical-align: top;\n",
       "    }\n",
       "\n",
       "    .dataframe thead th {\n",
       "        text-align: right;\n",
       "    }\n",
       "</style>\n",
       "<table border=\"1\" class=\"dataframe\">\n",
       "  <thead>\n",
       "    <tr style=\"text-align: right;\">\n",
       "      <th></th>\n",
       "      <th>vote_average</th>\n",
       "      <th>outlier</th>\n",
       "    </tr>\n",
       "  </thead>\n",
       "  <tbody>\n",
       "    <tr>\n",
       "      <th>37593</th>\n",
       "      <td>2.3</td>\n",
       "      <td>outlier</td>\n",
       "    </tr>\n",
       "    <tr>\n",
       "      <th>43000</th>\n",
       "      <td>2.3</td>\n",
       "      <td>outlier</td>\n",
       "    </tr>\n",
       "    <tr>\n",
       "      <th>18166</th>\n",
       "      <td>2.3</td>\n",
       "      <td>outlier</td>\n",
       "    </tr>\n",
       "    <tr>\n",
       "      <th>7768</th>\n",
       "      <td>2.3</td>\n",
       "      <td>outlier</td>\n",
       "    </tr>\n",
       "    <tr>\n",
       "      <th>43503</th>\n",
       "      <td>2.3</td>\n",
       "      <td>outlier</td>\n",
       "    </tr>\n",
       "    <tr>\n",
       "      <th>...</th>\n",
       "      <td>...</td>\n",
       "      <td>...</td>\n",
       "    </tr>\n",
       "    <tr>\n",
       "      <th>26146</th>\n",
       "      <td>0.0</td>\n",
       "      <td>outlier</td>\n",
       "    </tr>\n",
       "    <tr>\n",
       "      <th>26149</th>\n",
       "      <td>0.0</td>\n",
       "      <td>outlier</td>\n",
       "    </tr>\n",
       "    <tr>\n",
       "      <th>26152</th>\n",
       "      <td>0.0</td>\n",
       "      <td>outlier</td>\n",
       "    </tr>\n",
       "    <tr>\n",
       "      <th>26178</th>\n",
       "      <td>0.0</td>\n",
       "      <td>outlier</td>\n",
       "    </tr>\n",
       "    <tr>\n",
       "      <th>45417</th>\n",
       "      <td>0.0</td>\n",
       "      <td>outlier</td>\n",
       "    </tr>\n",
       "  </tbody>\n",
       "</table>\n",
       "<p>3406 rows × 2 columns</p>\n",
       "</div>"
      ],
      "text/plain": [
       "       vote_average  outlier\n",
       "37593           2.3  outlier\n",
       "43000           2.3  outlier\n",
       "18166           2.3  outlier\n",
       "7768            2.3  outlier\n",
       "43503           2.3  outlier\n",
       "...             ...      ...\n",
       "26146           0.0  outlier\n",
       "26149           0.0  outlier\n",
       "26152           0.0  outlier\n",
       "26178           0.0  outlier\n",
       "45417           0.0  outlier\n",
       "\n",
       "[3406 rows x 2 columns]"
      ]
     },
     "execution_count": 87,
     "metadata": {},
     "output_type": "execute_result"
    }
   ],
   "source": [
    "outlier.loc[outlier['vote_average']<lower,['vote_average', 'outlier']].sort_values('vote_average', ascending=False)"
   ]
  },
  {
   "cell_type": "code",
   "execution_count": 88,
   "metadata": {},
   "outputs": [
    {
     "data": {
      "text/html": [
       "<div>\n",
       "<style scoped>\n",
       "    .dataframe tbody tr th:only-of-type {\n",
       "        vertical-align: middle;\n",
       "    }\n",
       "\n",
       "    .dataframe tbody tr th {\n",
       "        vertical-align: top;\n",
       "    }\n",
       "\n",
       "    .dataframe thead th {\n",
       "        text-align: right;\n",
       "    }\n",
       "</style>\n",
       "<table border=\"1\" class=\"dataframe\">\n",
       "  <thead>\n",
       "    <tr style=\"text-align: right;\">\n",
       "      <th></th>\n",
       "      <th>vote_average</th>\n",
       "      <th>outlier</th>\n",
       "    </tr>\n",
       "  </thead>\n",
       "  <tbody>\n",
       "    <tr>\n",
       "      <th>186</th>\n",
       "      <td>10.0</td>\n",
       "      <td>outlier</td>\n",
       "    </tr>\n",
       "    <tr>\n",
       "      <th>37838</th>\n",
       "      <td>10.0</td>\n",
       "      <td>outlier</td>\n",
       "    </tr>\n",
       "    <tr>\n",
       "      <th>37080</th>\n",
       "      <td>10.0</td>\n",
       "      <td>outlier</td>\n",
       "    </tr>\n",
       "    <tr>\n",
       "      <th>37291</th>\n",
       "      <td>10.0</td>\n",
       "      <td>outlier</td>\n",
       "    </tr>\n",
       "    <tr>\n",
       "      <th>37296</th>\n",
       "      <td>10.0</td>\n",
       "      <td>outlier</td>\n",
       "    </tr>\n",
       "    <tr>\n",
       "      <th>...</th>\n",
       "      <td>...</td>\n",
       "      <td>...</td>\n",
       "    </tr>\n",
       "    <tr>\n",
       "      <th>25661</th>\n",
       "      <td>10.0</td>\n",
       "      <td>outlier</td>\n",
       "    </tr>\n",
       "    <tr>\n",
       "      <th>25720</th>\n",
       "      <td>10.0</td>\n",
       "      <td>outlier</td>\n",
       "    </tr>\n",
       "    <tr>\n",
       "      <th>45323</th>\n",
       "      <td>10.0</td>\n",
       "      <td>outlier</td>\n",
       "    </tr>\n",
       "    <tr>\n",
       "      <th>20381</th>\n",
       "      <td>9.8</td>\n",
       "      <td>outlier</td>\n",
       "    </tr>\n",
       "    <tr>\n",
       "      <th>19225</th>\n",
       "      <td>9.6</td>\n",
       "      <td>outlier</td>\n",
       "    </tr>\n",
       "  </tbody>\n",
       "</table>\n",
       "<p>191 rows × 2 columns</p>\n",
       "</div>"
      ],
      "text/plain": [
       "       vote_average  outlier\n",
       "186            10.0  outlier\n",
       "37838          10.0  outlier\n",
       "37080          10.0  outlier\n",
       "37291          10.0  outlier\n",
       "37296          10.0  outlier\n",
       "...             ...      ...\n",
       "25661          10.0  outlier\n",
       "25720          10.0  outlier\n",
       "45323          10.0  outlier\n",
       "20381           9.8  outlier\n",
       "19225           9.6  outlier\n",
       "\n",
       "[191 rows x 2 columns]"
      ]
     },
     "execution_count": 88,
     "metadata": {},
     "output_type": "execute_result"
    }
   ],
   "source": [
    "outlier.loc[outlier['vote_average']>upper,['vote_average', 'outlier']].sort_values('vote_average', ascending=False)"
   ]
  },
  {
   "cell_type": "code",
   "execution_count": 89,
   "metadata": {},
   "outputs": [
    {
     "data": {
      "text/html": [
       "<div>\n",
       "<style scoped>\n",
       "    .dataframe tbody tr th:only-of-type {\n",
       "        vertical-align: middle;\n",
       "    }\n",
       "\n",
       "    .dataframe tbody tr th {\n",
       "        vertical-align: top;\n",
       "    }\n",
       "\n",
       "    .dataframe thead th {\n",
       "        text-align: right;\n",
       "    }\n",
       "</style>\n",
       "<table border=\"1\" class=\"dataframe\">\n",
       "  <thead>\n",
       "    <tr style=\"text-align: right;\">\n",
       "      <th></th>\n",
       "      <th>count</th>\n",
       "      <th>prop_count</th>\n",
       "    </tr>\n",
       "  </thead>\n",
       "  <tbody>\n",
       "    <tr>\n",
       "      <th>non-outlier</th>\n",
       "      <td>41821</td>\n",
       "      <td>0.920802</td>\n",
       "    </tr>\n",
       "    <tr>\n",
       "      <th>outlier</th>\n",
       "      <td>3597</td>\n",
       "      <td>0.079198</td>\n",
       "    </tr>\n",
       "  </tbody>\n",
       "</table>\n",
       "</div>"
      ],
      "text/plain": [
       "             count  prop_count\n",
       "non-outlier  41821    0.920802\n",
       "outlier       3597    0.079198"
      ]
     },
     "execution_count": 89,
     "metadata": {},
     "output_type": "execute_result"
    }
   ],
   "source": [
    "# Looking at the counts for outlier vs non-outliers\n",
    "string_count('outlier', outlier)"
   ]
  },
  {
   "cell_type": "code",
   "execution_count": 90,
   "metadata": {},
   "outputs": [
    {
     "data": {
      "image/png": "[encoded data removed]",
      "text/plain": [
       "<Figure size 432x288 with 1 Axes>"
      ]
     },
     "metadata": {
      "needs_background": "light"
     },
     "output_type": "display_data"
    }
   ],
   "source": [
    "# bar graph of non-oultiers vs outlier counts\n",
    "plt.bar(string_count('outlier', outlier).index, height=string_count('outlier', outlier)['count'])\n",
    "plt.show()"
   ]
  },
  {
   "cell_type": "markdown",
   "metadata": {},
   "source": [
    "#### 3.3.11.4 Vote Average Summary"
   ]
  },
  {
   "cell_type": "markdown",
   "metadata": {},
   "source": [
    "The average vote_average is 5.6 while the median is 6. The data is slightly left skewed likely due to the 2,993 missing value, which are encoded as 0. The IQR is 1.8, which suggests the data is mostly centered, and the majority of data ranges between a rating of 5 and 6.8. There are 3,597 potential outliers that are less than 2.3 or larger than 9.5."
   ]
  },
  {
   "cell_type": "markdown",
   "metadata": {},
   "source": [
    "### 3.3.12 Revenue"
   ]
  },
  {
   "cell_type": "markdown",
   "metadata": {},
   "source": [
    "#### 3.3.12.1 Format"
   ]
  },
  {
   "cell_type": "code",
   "execution_count": 91,
   "metadata": {},
   "outputs": [
    {
     "data": {
      "text/plain": [
       "array([3.73554033e+08, 2.62797249e+08, 0.00000000e+00, ...,\n",
       "       1.32861200e+06, 1.26879300e+06, 1.41300000e+06])"
      ]
     },
     "execution_count": 91,
     "metadata": {},
     "output_type": "execute_result"
    }
   ],
   "source": [
    "movies_metadata['revenue'].unique()"
   ]
  },
  {
   "cell_type": "code",
   "execution_count": 92,
   "metadata": {},
   "outputs": [
    {
     "data": {
      "text/plain": [
       "4"
      ]
     },
     "execution_count": 92,
     "metadata": {},
     "output_type": "execute_result"
    }
   ],
   "source": [
    "# checking for missing values\n",
    "movies_metadata['revenue'].isna().sum()"
   ]
  },
  {
   "cell_type": "markdown",
   "metadata": {},
   "source": [
    "#### 3.3.12.2 Descriptive Statistics"
   ]
  },
  {
   "cell_type": "code",
   "execution_count": 93,
   "metadata": {},
   "outputs": [
    {
     "data": {
      "text/plain": [
       "count    4.541400e+04\n",
       "mean     1.121683e+07\n",
       "std      6.436312e+07\n",
       "min      0.000000e+00\n",
       "25%      0.000000e+00\n",
       "50%      0.000000e+00\n",
       "75%      0.000000e+00\n",
       "max      2.787965e+09\n",
       "Name: revenue, dtype: float64"
      ]
     },
     "execution_count": 93,
     "metadata": {},
     "output_type": "execute_result"
    }
   ],
   "source": [
    "movies_metadata['revenue'].describe()"
   ]
  },
  {
   "cell_type": "code",
   "execution_count": 94,
   "metadata": {},
   "outputs": [
    {
     "data": {
      "image/png": "[encoded data removed]",
      "text/plain": [
       "<Figure size 432x288 with 1 Axes>"
      ]
     },
     "metadata": {
      "needs_background": "light"
     },
     "output_type": "display_data"
    }
   ],
   "source": [
    "#plotting ecdf\n",
    "x, y =ECDF(movies_metadata['revenue'])\n",
    "\n",
    "plt.plot(x, y, marker='.', linestyle='none')\n",
    "plt.show()"
   ]
  },
  {
   "cell_type": "code",
   "execution_count": 95,
   "metadata": {},
   "outputs": [
    {
     "data": {
      "image/png": "[encoded data removed]",
      "text/plain": [
       "<Figure size 432x288 with 1 Axes>"
      ]
     },
     "metadata": {
      "needs_background": "light"
     },
     "output_type": "display_data"
    }
   ],
   "source": [
    "sns.boxplot(movies_metadata['revenue'])\n",
    "plt.show()"
   ]
  },
  {
   "cell_type": "markdown",
   "metadata": {},
   "source": [
    "#### 3.3.12.3 Dropping revenue Data"
   ]
  },
  {
   "cell_type": "code",
   "execution_count": 96,
   "metadata": {},
   "outputs": [
    {
     "data": {
      "text/html": [
       "<div>\n",
       "<style scoped>\n",
       "    .dataframe tbody tr th:only-of-type {\n",
       "        vertical-align: middle;\n",
       "    }\n",
       "\n",
       "    .dataframe tbody tr th {\n",
       "        vertical-align: top;\n",
       "    }\n",
       "\n",
       "    .dataframe thead th {\n",
       "        text-align: right;\n",
       "    }\n",
       "</style>\n",
       "<table border=\"1\" class=\"dataframe\">\n",
       "  <thead>\n",
       "    <tr style=\"text-align: right;\">\n",
       "      <th></th>\n",
       "      <th>id</th>\n",
       "      <th>imdb_id</th>\n",
       "      <th>original_language</th>\n",
       "      <th>overview</th>\n",
       "      <th>release_date</th>\n",
       "      <th>spoken_languages</th>\n",
       "      <th>title</th>\n",
       "      <th>vote_average</th>\n",
       "      <th>vote_count</th>\n",
       "      <th>genres_list</th>\n",
       "      <th>...</th>\n",
       "      <th>Mystery</th>\n",
       "      <th>War</th>\n",
       "      <th>Foreign</th>\n",
       "      <th>Music</th>\n",
       "      <th>Documentary</th>\n",
       "      <th>Western</th>\n",
       "      <th>production_companies_list</th>\n",
       "      <th>spoken_languages_list</th>\n",
       "      <th>release_year</th>\n",
       "      <th>outlier</th>\n",
       "    </tr>\n",
       "  </thead>\n",
       "  <tbody>\n",
       "    <tr>\n",
       "      <th>0</th>\n",
       "      <td>862</td>\n",
       "      <td>tt0114709</td>\n",
       "      <td>en</td>\n",
       "      <td>Led by Woody, Andy's toys live happily in his ...</td>\n",
       "      <td>1995-10-30</td>\n",
       "      <td>[{'iso_639_1': 'en', 'name': 'English'}]</td>\n",
       "      <td>Toy Story</td>\n",
       "      <td>7.7</td>\n",
       "      <td>5415.0</td>\n",
       "      <td>[Animation, Comedy, Family]</td>\n",
       "      <td>...</td>\n",
       "      <td>0</td>\n",
       "      <td>0</td>\n",
       "      <td>0</td>\n",
       "      <td>0</td>\n",
       "      <td>0</td>\n",
       "      <td>0</td>\n",
       "      <td>[Pixar Animation Studios]</td>\n",
       "      <td>[en]</td>\n",
       "      <td>1995</td>\n",
       "      <td>non-outlier</td>\n",
       "    </tr>\n",
       "    <tr>\n",
       "      <th>1</th>\n",
       "      <td>8844</td>\n",
       "      <td>tt0113497</td>\n",
       "      <td>en</td>\n",
       "      <td>When siblings Judy and Peter discover an encha...</td>\n",
       "      <td>1995-12-15</td>\n",
       "      <td>[{'iso_639_1': 'en', 'name': 'English'}, {'iso...</td>\n",
       "      <td>Jumanji</td>\n",
       "      <td>6.9</td>\n",
       "      <td>2413.0</td>\n",
       "      <td>[Adventure, Fantasy, Family]</td>\n",
       "      <td>...</td>\n",
       "      <td>0</td>\n",
       "      <td>0</td>\n",
       "      <td>0</td>\n",
       "      <td>0</td>\n",
       "      <td>0</td>\n",
       "      <td>0</td>\n",
       "      <td>[TriStar Pictures, Teitler Film, Interscope Co...</td>\n",
       "      <td>[en, fr]</td>\n",
       "      <td>1995</td>\n",
       "      <td>non-outlier</td>\n",
       "    </tr>\n",
       "    <tr>\n",
       "      <th>2</th>\n",
       "      <td>15602</td>\n",
       "      <td>tt0113228</td>\n",
       "      <td>en</td>\n",
       "      <td>A family wedding reignites the ancient feud be...</td>\n",
       "      <td>1995-12-22</td>\n",
       "      <td>[{'iso_639_1': 'en', 'name': 'English'}]</td>\n",
       "      <td>Grumpier Old Men</td>\n",
       "      <td>6.5</td>\n",
       "      <td>92.0</td>\n",
       "      <td>[Romance, Comedy]</td>\n",
       "      <td>...</td>\n",
       "      <td>0</td>\n",
       "      <td>0</td>\n",
       "      <td>0</td>\n",
       "      <td>0</td>\n",
       "      <td>0</td>\n",
       "      <td>0</td>\n",
       "      <td>[Warner Bros., Lancaster Gate]</td>\n",
       "      <td>[en]</td>\n",
       "      <td>1995</td>\n",
       "      <td>non-outlier</td>\n",
       "    </tr>\n",
       "  </tbody>\n",
       "</table>\n",
       "<p>3 rows × 32 columns</p>\n",
       "</div>"
      ],
      "text/plain": [
       "      id    imdb_id original_language  \\\n",
       "0    862  tt0114709                en   \n",
       "1   8844  tt0113497                en   \n",
       "2  15602  tt0113228                en   \n",
       "\n",
       "                                            overview release_date  \\\n",
       "0  Led by Woody, Andy's toys live happily in his ...   1995-10-30   \n",
       "1  When siblings Judy and Peter discover an encha...   1995-12-15   \n",
       "2  A family wedding reignites the ancient feud be...   1995-12-22   \n",
       "\n",
       "                                    spoken_languages             title  \\\n",
       "0           [{'iso_639_1': 'en', 'name': 'English'}]         Toy Story   \n",
       "1  [{'iso_639_1': 'en', 'name': 'English'}, {'iso...           Jumanji   \n",
       "2           [{'iso_639_1': 'en', 'name': 'English'}]  Grumpier Old Men   \n",
       "\n",
       "   vote_average  vote_count                   genres_list  ...  Mystery  War  \\\n",
       "0           7.7      5415.0   [Animation, Comedy, Family]  ...        0    0   \n",
       "1           6.9      2413.0  [Adventure, Fantasy, Family]  ...        0    0   \n",
       "2           6.5        92.0             [Romance, Comedy]  ...        0    0   \n",
       "\n",
       "   Foreign  Music  Documentary  Western  \\\n",
       "0        0      0            0        0   \n",
       "1        0      0            0        0   \n",
       "2        0      0            0        0   \n",
       "\n",
       "                           production_companies_list  spoken_languages_list  \\\n",
       "0                          [Pixar Animation Studios]                   [en]   \n",
       "1  [TriStar Pictures, Teitler Film, Interscope Co...               [en, fr]   \n",
       "2                     [Warner Bros., Lancaster Gate]                   [en]   \n",
       "\n",
       "   release_year      outlier  \n",
       "0          1995  non-outlier  \n",
       "1          1995  non-outlier  \n",
       "2          1995  non-outlier  \n",
       "\n",
       "[3 rows x 32 columns]"
      ]
     },
     "execution_count": 96,
     "metadata": {},
     "output_type": "execute_result"
    }
   ],
   "source": [
    "movies_metadata.drop(columns='revenue', inplace=True)\n",
    "movies_metadata.head(3)"
   ]
  },
  {
   "cell_type": "markdown",
   "metadata": {},
   "source": [
    "#### 3.3.12.4 Revenue Summary"
   ]
  },
  {
   "cell_type": "markdown",
   "metadata": {},
   "source": [
    "Since at least 75% of revenue data is zeros, the data is droped."
   ]
  },
  {
   "cell_type": "markdown",
   "metadata": {},
   "source": [
    "### 3.3.13 Vote Count"
   ]
  },
  {
   "cell_type": "markdown",
   "metadata": {},
   "source": [
    "#### 3.3.13.1 Descriptive Statistics"
   ]
  },
  {
   "cell_type": "code",
   "execution_count": 97,
   "metadata": {},
   "outputs": [
    {
     "data": {
      "text/plain": [
       "count    45414.000000\n",
       "mean       109.971837\n",
       "std        491.549122\n",
       "min          0.000000\n",
       "25%          3.000000\n",
       "50%         10.000000\n",
       "75%         34.000000\n",
       "max      14075.000000\n",
       "Name: vote_count, dtype: float64"
      ]
     },
     "execution_count": 97,
     "metadata": {},
     "output_type": "execute_result"
    }
   ],
   "source": [
    "movies_metadata['vote_count'].describe()"
   ]
  },
  {
   "cell_type": "code",
   "execution_count": 98,
   "metadata": {},
   "outputs": [
    {
     "name": "stderr",
     "output_type": "stream",
     "text": [
      "C:\\Users\\User\\anaconda3\\lib\\site-packages\\numpy\\lib\\histograms.py:839: RuntimeWarning: invalid value encountered in greater_equal\n",
      "  keep = (tmp_a >= first_edge)\n",
      "C:\\Users\\User\\anaconda3\\lib\\site-packages\\numpy\\lib\\histograms.py:840: RuntimeWarning: invalid value encountered in less_equal\n",
      "  keep &= (tmp_a <= last_edge)\n"
     ]
    },
    {
     "data": {
      "image/png": "[encoded data removed]",
      "text/plain": [
       "<Figure size 432x288 with 1 Axes>"
      ]
     },
     "metadata": {
      "needs_background": "light"
     },
     "output_type": "display_data"
    }
   ],
   "source": [
    "# histogram\n",
    "plt.hist(movies_metadata['vote_count'], bins=int(np.sqrt(len(movies_metadata['vote_count']))))\n",
    "plt.show()"
   ]
  },
  {
   "cell_type": "code",
   "execution_count": 99,
   "metadata": {},
   "outputs": [
    {
     "data": {
      "image/png": "[encoded data removed]",
      "text/plain": [
       "<Figure size 432x288 with 1 Axes>"
      ]
     },
     "metadata": {
      "needs_background": "light"
     },
     "output_type": "display_data"
    }
   ],
   "source": [
    "# ECDF\n",
    "x,y = ECDF(movies_metadata['vote_count'])\n",
    "plt.plot(x, y, marker='.', linestyle='none')\n",
    "plt.show()"
   ]
  },
  {
   "cell_type": "code",
   "execution_count": 100,
   "metadata": {},
   "outputs": [
    {
     "data": {
      "text/html": [
       "<div>\n",
       "<style scoped>\n",
       "    .dataframe tbody tr th:only-of-type {\n",
       "        vertical-align: middle;\n",
       "    }\n",
       "\n",
       "    .dataframe tbody tr th {\n",
       "        vertical-align: top;\n",
       "    }\n",
       "\n",
       "    .dataframe thead th {\n",
       "        text-align: right;\n",
       "    }\n",
       "</style>\n",
       "<table border=\"1\" class=\"dataframe\">\n",
       "  <thead>\n",
       "    <tr style=\"text-align: right;\">\n",
       "      <th></th>\n",
       "      <th>count</th>\n",
       "      <th>prop_count</th>\n",
       "    </tr>\n",
       "  </thead>\n",
       "  <tbody>\n",
       "    <tr>\n",
       "      <th>1.0</th>\n",
       "      <td>3260</td>\n",
       "      <td>0.071784</td>\n",
       "    </tr>\n",
       "    <tr>\n",
       "      <th>2.0</th>\n",
       "      <td>3131</td>\n",
       "      <td>0.068943</td>\n",
       "    </tr>\n",
       "    <tr>\n",
       "      <th>0.0</th>\n",
       "      <td>2890</td>\n",
       "      <td>0.063637</td>\n",
       "    </tr>\n",
       "    <tr>\n",
       "      <th>3.0</th>\n",
       "      <td>2780</td>\n",
       "      <td>0.061215</td>\n",
       "    </tr>\n",
       "    <tr>\n",
       "      <th>4.0</th>\n",
       "      <td>2479</td>\n",
       "      <td>0.054587</td>\n",
       "    </tr>\n",
       "    <tr>\n",
       "      <th>...</th>\n",
       "      <td>...</td>\n",
       "      <td>...</td>\n",
       "    </tr>\n",
       "    <tr>\n",
       "      <th>4461.0</th>\n",
       "      <td>1</td>\n",
       "      <td>0.000022</td>\n",
       "    </tr>\n",
       "    <tr>\n",
       "      <th>1085.0</th>\n",
       "      <td>1</td>\n",
       "      <td>0.000022</td>\n",
       "    </tr>\n",
       "    <tr>\n",
       "      <th>1539.0</th>\n",
       "      <td>1</td>\n",
       "      <td>0.000022</td>\n",
       "    </tr>\n",
       "    <tr>\n",
       "      <th>2487.0</th>\n",
       "      <td>1</td>\n",
       "      <td>0.000022</td>\n",
       "    </tr>\n",
       "    <tr>\n",
       "      <th>3086.0</th>\n",
       "      <td>1</td>\n",
       "      <td>0.000022</td>\n",
       "    </tr>\n",
       "  </tbody>\n",
       "</table>\n",
       "<p>1820 rows × 2 columns</p>\n",
       "</div>"
      ],
      "text/plain": [
       "        count  prop_count\n",
       "1.0      3260    0.071784\n",
       "2.0      3131    0.068943\n",
       "0.0      2890    0.063637\n",
       "3.0      2780    0.061215\n",
       "4.0      2479    0.054587\n",
       "...       ...         ...\n",
       "4461.0      1    0.000022\n",
       "1085.0      1    0.000022\n",
       "1539.0      1    0.000022\n",
       "2487.0      1    0.000022\n",
       "3086.0      1    0.000022\n",
       "\n",
       "[1820 rows x 2 columns]"
      ]
     },
     "execution_count": 100,
     "metadata": {},
     "output_type": "execute_result"
    }
   ],
   "source": [
    "string_count('vote_count', movies_metadata)"
   ]
  },
  {
   "cell_type": "markdown",
   "metadata": {},
   "source": [
    "#### 3.3.13.2 vote count summary"
   ]
  },
  {
   "cell_type": "markdown",
   "metadata": {},
   "source": [
    "Vote count data is heavily rightly skewed where 75% of movies have only 34 or less votes, and the max movie has 14075. Approximately 6% of movies have 0 votes. "
   ]
  },
  {
   "cell_type": "markdown",
   "metadata": {},
   "source": [
    "### 3.3.14 Pairwise comparisons"
   ]
  },
  {
   "cell_type": "code",
   "execution_count": 101,
   "metadata": {},
   "outputs": [
    {
     "data": {
      "text/html": [
       "<div>\n",
       "<style scoped>\n",
       "    .dataframe tbody tr th:only-of-type {\n",
       "        vertical-align: middle;\n",
       "    }\n",
       "\n",
       "    .dataframe tbody tr th {\n",
       "        vertical-align: top;\n",
       "    }\n",
       "\n",
       "    .dataframe thead th {\n",
       "        text-align: right;\n",
       "    }\n",
       "</style>\n",
       "<table border=\"1\" class=\"dataframe\">\n",
       "  <thead>\n",
       "    <tr style=\"text-align: right;\">\n",
       "      <th></th>\n",
       "      <th>id</th>\n",
       "      <th>imdb_id</th>\n",
       "      <th>original_language</th>\n",
       "      <th>overview</th>\n",
       "      <th>release_date</th>\n",
       "      <th>spoken_languages</th>\n",
       "      <th>title</th>\n",
       "      <th>vote_average</th>\n",
       "      <th>vote_count</th>\n",
       "      <th>genres_list</th>\n",
       "      <th>...</th>\n",
       "      <th>Mystery</th>\n",
       "      <th>War</th>\n",
       "      <th>Foreign</th>\n",
       "      <th>Music</th>\n",
       "      <th>Documentary</th>\n",
       "      <th>Western</th>\n",
       "      <th>production_companies_list</th>\n",
       "      <th>spoken_languages_list</th>\n",
       "      <th>release_year</th>\n",
       "      <th>outlier</th>\n",
       "    </tr>\n",
       "  </thead>\n",
       "  <tbody>\n",
       "    <tr>\n",
       "      <th>0</th>\n",
       "      <td>862</td>\n",
       "      <td>tt0114709</td>\n",
       "      <td>en</td>\n",
       "      <td>Led by Woody, Andy's toys live happily in his ...</td>\n",
       "      <td>1995-10-30</td>\n",
       "      <td>[{'iso_639_1': 'en', 'name': 'English'}]</td>\n",
       "      <td>Toy Story</td>\n",
       "      <td>7.7</td>\n",
       "      <td>5415.0</td>\n",
       "      <td>[Animation, Comedy, Family]</td>\n",
       "      <td>...</td>\n",
       "      <td>0</td>\n",
       "      <td>0</td>\n",
       "      <td>0</td>\n",
       "      <td>0</td>\n",
       "      <td>0</td>\n",
       "      <td>0</td>\n",
       "      <td>[Pixar Animation Studios]</td>\n",
       "      <td>[en]</td>\n",
       "      <td>1995</td>\n",
       "      <td>non-outlier</td>\n",
       "    </tr>\n",
       "    <tr>\n",
       "      <th>1</th>\n",
       "      <td>8844</td>\n",
       "      <td>tt0113497</td>\n",
       "      <td>en</td>\n",
       "      <td>When siblings Judy and Peter discover an encha...</td>\n",
       "      <td>1995-12-15</td>\n",
       "      <td>[{'iso_639_1': 'en', 'name': 'English'}, {'iso...</td>\n",
       "      <td>Jumanji</td>\n",
       "      <td>6.9</td>\n",
       "      <td>2413.0</td>\n",
       "      <td>[Adventure, Fantasy, Family]</td>\n",
       "      <td>...</td>\n",
       "      <td>0</td>\n",
       "      <td>0</td>\n",
       "      <td>0</td>\n",
       "      <td>0</td>\n",
       "      <td>0</td>\n",
       "      <td>0</td>\n",
       "      <td>[TriStar Pictures, Teitler Film, Interscope Co...</td>\n",
       "      <td>[en, fr]</td>\n",
       "      <td>1995</td>\n",
       "      <td>non-outlier</td>\n",
       "    </tr>\n",
       "    <tr>\n",
       "      <th>2</th>\n",
       "      <td>15602</td>\n",
       "      <td>tt0113228</td>\n",
       "      <td>en</td>\n",
       "      <td>A family wedding reignites the ancient feud be...</td>\n",
       "      <td>1995-12-22</td>\n",
       "      <td>[{'iso_639_1': 'en', 'name': 'English'}]</td>\n",
       "      <td>Grumpier Old Men</td>\n",
       "      <td>6.5</td>\n",
       "      <td>92.0</td>\n",
       "      <td>[Romance, Comedy]</td>\n",
       "      <td>...</td>\n",
       "      <td>0</td>\n",
       "      <td>0</td>\n",
       "      <td>0</td>\n",
       "      <td>0</td>\n",
       "      <td>0</td>\n",
       "      <td>0</td>\n",
       "      <td>[Warner Bros., Lancaster Gate]</td>\n",
       "      <td>[en]</td>\n",
       "      <td>1995</td>\n",
       "      <td>non-outlier</td>\n",
       "    </tr>\n",
       "  </tbody>\n",
       "</table>\n",
       "<p>3 rows × 32 columns</p>\n",
       "</div>"
      ],
      "text/plain": [
       "      id    imdb_id original_language  \\\n",
       "0    862  tt0114709                en   \n",
       "1   8844  tt0113497                en   \n",
       "2  15602  tt0113228                en   \n",
       "\n",
       "                                            overview release_date  \\\n",
       "0  Led by Woody, Andy's toys live happily in his ...   1995-10-30   \n",
       "1  When siblings Judy and Peter discover an encha...   1995-12-15   \n",
       "2  A family wedding reignites the ancient feud be...   1995-12-22   \n",
       "\n",
       "                                    spoken_languages             title  \\\n",
       "0           [{'iso_639_1': 'en', 'name': 'English'}]         Toy Story   \n",
       "1  [{'iso_639_1': 'en', 'name': 'English'}, {'iso...           Jumanji   \n",
       "2           [{'iso_639_1': 'en', 'name': 'English'}]  Grumpier Old Men   \n",
       "\n",
       "   vote_average  vote_count                   genres_list  ...  Mystery  War  \\\n",
       "0           7.7      5415.0   [Animation, Comedy, Family]  ...        0    0   \n",
       "1           6.9      2413.0  [Adventure, Fantasy, Family]  ...        0    0   \n",
       "2           6.5        92.0             [Romance, Comedy]  ...        0    0   \n",
       "\n",
       "   Foreign  Music  Documentary  Western  \\\n",
       "0        0      0            0        0   \n",
       "1        0      0            0        0   \n",
       "2        0      0            0        0   \n",
       "\n",
       "                           production_companies_list  spoken_languages_list  \\\n",
       "0                          [Pixar Animation Studios]                   [en]   \n",
       "1  [TriStar Pictures, Teitler Film, Interscope Co...               [en, fr]   \n",
       "2                     [Warner Bros., Lancaster Gate]                   [en]   \n",
       "\n",
       "   release_year      outlier  \n",
       "0          1995  non-outlier  \n",
       "1          1995  non-outlier  \n",
       "2          1995  non-outlier  \n",
       "\n",
       "[3 rows x 32 columns]"
      ]
     },
     "execution_count": 101,
     "metadata": {},
     "output_type": "execute_result"
    }
   ],
   "source": [
    "movies_metadata.head(3)"
   ]
  },
  {
   "cell_type": "code",
   "execution_count": 102,
   "metadata": {},
   "outputs": [
    {
     "data": {
      "image/png": "[encoded data removed]",
      "text/plain": [
       "<Figure size 432x288 with 1 Axes>"
      ]
     },
     "metadata": {
      "needs_background": "light"
     },
     "output_type": "display_data"
    }
   ],
   "source": [
    "sns.boxplot(x=movies_metadata['genres_list'].apply(lambda row: str(row)), y=movies_metadata['vote_average'])\n",
    "plt.show()"
   ]
  },
  {
   "cell_type": "markdown",
   "metadata": {},
   "source": [
    "There are only two numerical variables (vote_counts and vote average) while the remaining variables are categorical. There are two many categories to visualize for the variables"
   ]
  },
  {
   "cell_type": "markdown",
   "metadata": {},
   "source": [
    "## 3.4 Ratings"
   ]
  },
  {
   "cell_type": "code",
   "execution_count": 103,
   "metadata": {},
   "outputs": [
    {
     "data": {
      "text/html": [
       "<div>\n",
       "<style scoped>\n",
       "    .dataframe tbody tr th:only-of-type {\n",
       "        vertical-align: middle;\n",
       "    }\n",
       "\n",
       "    .dataframe tbody tr th {\n",
       "        vertical-align: top;\n",
       "    }\n",
       "\n",
       "    .dataframe thead th {\n",
       "        text-align: right;\n",
       "    }\n",
       "</style>\n",
       "<table border=\"1\" class=\"dataframe\">\n",
       "  <thead>\n",
       "    <tr style=\"text-align: right;\">\n",
       "      <th></th>\n",
       "      <th>userId</th>\n",
       "      <th>movieId</th>\n",
       "      <th>rating</th>\n",
       "    </tr>\n",
       "  </thead>\n",
       "  <tbody>\n",
       "    <tr>\n",
       "      <th>0</th>\n",
       "      <td>1</td>\n",
       "      <td>110</td>\n",
       "      <td>1.0</td>\n",
       "    </tr>\n",
       "    <tr>\n",
       "      <th>1</th>\n",
       "      <td>1</td>\n",
       "      <td>147</td>\n",
       "      <td>4.5</td>\n",
       "    </tr>\n",
       "    <tr>\n",
       "      <th>2</th>\n",
       "      <td>1</td>\n",
       "      <td>858</td>\n",
       "      <td>5.0</td>\n",
       "    </tr>\n",
       "  </tbody>\n",
       "</table>\n",
       "</div>"
      ],
      "text/plain": [
       "   userId  movieId  rating\n",
       "0       1      110     1.0\n",
       "1       1      147     4.5\n",
       "2       1      858     5.0"
      ]
     },
     "execution_count": 103,
     "metadata": {},
     "output_type": "execute_result"
    }
   ],
   "source": [
    "ratings.head(3)"
   ]
  },
  {
   "cell_type": "markdown",
   "metadata": {},
   "source": [
    "### 3.4.2 Rating"
   ]
  },
  {
   "cell_type": "markdown",
   "metadata": {},
   "source": [
    "#### 3.4.1 Descriptive Statistics"
   ]
  },
  {
   "cell_type": "code",
   "execution_count": 104,
   "metadata": {},
   "outputs": [
    {
     "data": {
      "text/plain": [
       "count    2.602429e+07\n",
       "mean     3.528090e+00\n",
       "std      1.065443e+00\n",
       "min      5.000000e-01\n",
       "25%      3.000000e+00\n",
       "50%      3.500000e+00\n",
       "75%      4.000000e+00\n",
       "max      5.000000e+00\n",
       "Name: rating, dtype: float64"
      ]
     },
     "execution_count": 104,
     "metadata": {},
     "output_type": "execute_result"
    }
   ],
   "source": [
    "ratings['rating'].describe()"
   ]
  },
  {
   "cell_type": "code",
   "execution_count": 105,
   "metadata": {},
   "outputs": [
    {
     "data": {
      "image/png": "[encoded data removed]",
      "text/plain": [
       "<Figure size 432x288 with 1 Axes>"
      ]
     },
     "metadata": {
      "needs_background": "light"
     },
     "output_type": "display_data"
    }
   ],
   "source": [
    "# ECDF\n",
    "x, y = ECDF(ratings['rating'])\n",
    "\n",
    "plt.plot(x, y, marker='.', linestyle='none')\n",
    "plt.show()"
   ]
  },
  {
   "cell_type": "markdown",
   "metadata": {},
   "source": [
    "The mean and median are very close and the IQR and standard deviation are very similiar, which suggests the data is symmetric. "
   ]
  },
  {
   "cell_type": "markdown",
   "metadata": {},
   "source": [
    "## 3.5 Keywords"
   ]
  },
  {
   "cell_type": "markdown",
   "metadata": {},
   "source": [
    "### 3.5.1 Descriptive Statistics"
   ]
  },
  {
   "cell_type": "code",
   "execution_count": 106,
   "metadata": {},
   "outputs": [
    {
     "data": {
      "text/html": [
       "<div>\n",
       "<style scoped>\n",
       "    .dataframe tbody tr th:only-of-type {\n",
       "        vertical-align: middle;\n",
       "    }\n",
       "\n",
       "    .dataframe tbody tr th {\n",
       "        vertical-align: top;\n",
       "    }\n",
       "\n",
       "    .dataframe thead th {\n",
       "        text-align: right;\n",
       "    }\n",
       "</style>\n",
       "<table border=\"1\" class=\"dataframe\">\n",
       "  <thead>\n",
       "    <tr style=\"text-align: right;\">\n",
       "      <th></th>\n",
       "      <th>id</th>\n",
       "      <th>keywords</th>\n",
       "    </tr>\n",
       "  </thead>\n",
       "  <tbody>\n",
       "    <tr>\n",
       "      <th>0</th>\n",
       "      <td>862</td>\n",
       "      <td>[{'id': 931, 'name': 'jealousy'}, {'id': 4290,...</td>\n",
       "    </tr>\n",
       "    <tr>\n",
       "      <th>1</th>\n",
       "      <td>8844</td>\n",
       "      <td>[{'id': 10090, 'name': 'board game'}, {'id': 1...</td>\n",
       "    </tr>\n",
       "    <tr>\n",
       "      <th>2</th>\n",
       "      <td>15602</td>\n",
       "      <td>[{'id': 1495, 'name': 'fishing'}, {'id': 12392...</td>\n",
       "    </tr>\n",
       "  </tbody>\n",
       "</table>\n",
       "</div>"
      ],
      "text/plain": [
       "      id                                           keywords\n",
       "0    862  [{'id': 931, 'name': 'jealousy'}, {'id': 4290,...\n",
       "1   8844  [{'id': 10090, 'name': 'board game'}, {'id': 1...\n",
       "2  15602  [{'id': 1495, 'name': 'fishing'}, {'id': 12392..."
      ]
     },
     "execution_count": 106,
     "metadata": {},
     "output_type": "execute_result"
    }
   ],
   "source": [
    "keywords.head(3)"
   ]
  },
  {
   "cell_type": "markdown",
   "metadata": {},
   "source": [
    "## 3.5 Links"
   ]
  },
  {
   "cell_type": "code",
   "execution_count": 108,
   "metadata": {},
   "outputs": [
    {
     "data": {
      "text/html": [
       "<div>\n",
       "<style scoped>\n",
       "    .dataframe tbody tr th:only-of-type {\n",
       "        vertical-align: middle;\n",
       "    }\n",
       "\n",
       "    .dataframe tbody tr th {\n",
       "        vertical-align: top;\n",
       "    }\n",
       "\n",
       "    .dataframe thead th {\n",
       "        text-align: right;\n",
       "    }\n",
       "</style>\n",
       "<table border=\"1\" class=\"dataframe\">\n",
       "  <thead>\n",
       "    <tr style=\"text-align: right;\">\n",
       "      <th></th>\n",
       "      <th>movieId</th>\n",
       "      <th>imdbId</th>\n",
       "      <th>tmdbId</th>\n",
       "    </tr>\n",
       "  </thead>\n",
       "  <tbody>\n",
       "    <tr>\n",
       "      <th>0</th>\n",
       "      <td>1</td>\n",
       "      <td>114709</td>\n",
       "      <td>862.0</td>\n",
       "    </tr>\n",
       "    <tr>\n",
       "      <th>1</th>\n",
       "      <td>2</td>\n",
       "      <td>113497</td>\n",
       "      <td>8844.0</td>\n",
       "    </tr>\n",
       "    <tr>\n",
       "      <th>2</th>\n",
       "      <td>3</td>\n",
       "      <td>113228</td>\n",
       "      <td>15602.0</td>\n",
       "    </tr>\n",
       "  </tbody>\n",
       "</table>\n",
       "</div>"
      ],
      "text/plain": [
       "   movieId  imdbId   tmdbId\n",
       "0        1  114709    862.0\n",
       "1        2  113497   8844.0\n",
       "2        3  113228  15602.0"
      ]
     },
     "execution_count": 108,
     "metadata": {},
     "output_type": "execute_result"
    }
   ],
   "source": [
    "links.head(3)"
   ]
  },
  {
   "cell_type": "markdown",
   "metadata": {},
   "source": [
    "## 3.6 Saving Data"
   ]
  },
  {
   "cell_type": "code",
   "execution_count": 111,
   "metadata": {},
   "outputs": [
    {
     "name": "stdout",
     "output_type": "stream",
     "text": [
      "Writing file.  \"..\\data\\movies_metadata.cleaned.csv\"\n",
      "A file already exists with this name.\n",
      "\n",
      "Do you want to overwrite? (Y/N)y\n",
      "Writing file.  \"..\\data\\ratings.cleaned.csv\"\n",
      "Writing file.  \"..\\data\\links.cleaned.csv\"\n",
      "Writing file.  \"..\\data\\keywords.cleaned.csv\"\n"
     ]
    }
   ],
   "source": [
    "datapath='..\\data'\n",
    "\n",
    "save_file(movies_metadata, 'movies_metadata.cleaned.csv', datapath)\n",
    "save_file(ratings, 'ratings.cleaned.csv', datapath)\n",
    "save_file(links, 'links.cleaned.csv', datapath)\n",
    "save_file(keywords, 'keywords.cleaned.csv', datapath)"
   ]
  }
 ],
 "metadata": {
  "kernelspec": {
   "display_name": "Python 3",
   "language": "python",
   "name": "python3"
  },
  "language_info": {
   "codemirror_mode": {
    "name": "ipython",
    "version": 3
   },
   "file_extension": ".py",
   "mimetype": "text/x-python",
   "name": "python",
   "nbconvert_exporter": "python",
   "pygments_lexer": "ipython3",
   "version": "3.8.3"
  }
 },
 "nbformat": 4,
 "nbformat_minor": 4
}
